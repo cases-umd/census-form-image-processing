{
 "cells": [
  {
   "attachments": {},
   "cell_type": "markdown",
   "metadata": {},
   "source": [
    "# Census Form Image Processing with Computer Vision and Machine Learning\n",
    "### Using image segmentation and handwritten character recognition to detect demographic codes in the 1950s census population schedules.\n",
    "* Contributors: Gregory Jansen & Hebah Emara\n",
    "* Source Available: https://github.com/cases-umd/census-form-image-processing\n",
    "* License: <p xmlns:cc=\"http://creativecommons.org/ns#\" xmlns:dct=\"http://purl.org/dc/terms/\"><a property=\"dct:title\" rel=\"cc:attributionURL\" href=\"https://github.com/cases-umd/census-form-image-processing\">Census Form Image Processing with Computer Vision and Machine Learning</a> by <a rel=\"cc:attributionURL dct:creator\" property=\"cc:attributionName\" href=\"https://github.com/gregjan\">Gregory Jansen & Hebah Emara</a> is licensed under <a href=\"http://creativecommons.org/licenses/by-nc-sa/4.0/?ref=chooser-v1\" target=\"_blank\" rel=\"license noopener noreferrer\" style=\"display:inline-block;\">CC BY-NC-SA 4.0<img style=\"height:22px!important;margin-left:3px;vertical-align:text-bottom;\" src=\"https://mirrors.creativecommons.org/presskit/icons/cc.svg?ref=chooser-v1\"><img style=\"height:22px!important;margin-left:3px;vertical-align:text-bottom;\" src=\"https://mirrors.creativecommons.org/presskit/icons/by.svg?ref=chooser-v1\"><img style=\"height:22px!important;margin-left:3px;vertical-align:text-bottom;\" src=\"https://mirrors.creativecommons.org/presskit/icons/nc.svg?ref=chooser-v1\"><img style=\"height:22px!important;margin-left:3px;vertical-align:text-bottom;\" src=\"https://mirrors.creativecommons.org/presskit/icons/sa.svg?ref=chooser-v1\"></a></p> \n",
    "* [Lesson Plan for Instructors](./lesson-plan.ipynb)\n",
    "\n",
    "## Introduction\n",
    "Please introduce your topic\n",
    "\n",
    "<img src=\"cases_card.png\" alt=\"Describe what the image shows\" title=\"Image title\" height=\"450\" width=\"720\">\n",
    "\n",
    "### Further Information\n",
    "Learn more about this project at the [website](http://researchwebsite.example.org)\n",
    "\n",
    "## Objectives\n",
    "Please state the project's research objectives for these computational treatments.\n",
    "\n",
    "## Learning Goals\n",
    "* Computational Practices:\n",
    " * [Collecting Data](#collecting_data)\n",
    " * [Modeling Data](#modeling_Data)\n",
    "* Archival Practices:\n",
    " * ??"
   ]
  },
  {
   "cell_type": "markdown",
   "metadata": {},
   "source": [
    "# Software and Tools\n",
    "Please discuss the programming language, software libraries, and other tools used in these notebooks:\n",
    "\n",
    "* [Tool 1](http://example.org/tool1)\n",
    "* [Software Library 2](http://example.org/tool1)\n",
    "\n",
    "If there are special instructions for acquiring any of the necessary tools, please explain those steps here.\n",
    "\n",
    "1. Go to the Tool1 website.\n",
    "2. Create an account. (required)\n",
    "3. Go to the \"Download\" page and follow instructions.\n"
   ]
  },
  {
   "cell_type": "markdown",
   "metadata": {},
   "source": [
    "# Acquiring or Accessing the Data\n",
    "Please write instructions here that show users how to obtain the research data, or let them know that it is packaged with your notebooks in Github. Does the student or user need additional permissions or accounts in order to obtain the data. If the data is downloaded separately, how should they save the data locally.\n",
    "In some cases the data may be available from a web API. If so, then what steps are needed in order to access that API?\n"
   ]
  },
  {
   "cell_type": "markdown",
   "metadata": {},
   "source": [
    "# Notebooks\n",
    "1. [Data Overview and Exploration](notebook-1.ipynb)\n",
    "1. [Data Cleaning and Preparation](notebook-2.ipynb)\n",
    "1. [Computation and Transformation](notebook-3.ipynb)\n",
    "1. [Visualization and Conclusion](notebook-4.ipynb)"
   ]
  },
  {
   "cell_type": "code",
   "execution_count": null,
   "metadata": {},
   "outputs": [],
   "source": []
  }
 ],
 "metadata": {
  "cases_info": {
   "computational_practices": [
    "cas:dp_collecting_data",
    "cas:dp_creating_data"
   ]
  },
  "kernelspec": {
   "display_name": "Python 3",
   "language": "python",
   "name": "python3"
  },
  "language_info": {
   "codemirror_mode": {
    "name": "ipython",
    "version": 3
   },
   "file_extension": ".py",
   "mimetype": "text/x-python",
   "name": "python",
   "nbconvert_exporter": "python",
   "pygments_lexer": "ipython3",
   "version": "3.10.12 (main, Nov 20 2023, 15:14:05) [GCC 11.4.0]"
  },
  "vscode": {
   "interpreter": {
    "hash": "916dbcbb3f70747c44a77c7bcd40155683ae19c65e1c03b4aa3499c5328201f1"
   }
  }
 },
 "nbformat": 4,
 "nbformat_minor": 2
}
