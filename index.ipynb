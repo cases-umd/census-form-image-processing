{
 "cells": [
  {
   "attachments": {},
   "cell_type": "markdown",
   "metadata": {},
   "source": [
    "# Census Form Image Processing with Computer Vision and Machine Learning\n",
    "### Using image segmentation and handwritten character recognition to detect demographic codes in the 1950s census population schedules.\n",
    "* Author: Gregory Jansen\n",
    "* Contributor: Hebah Emara\n",
    "* Source Available: https://github.com/cases-umd/census-form-image-processing\n",
    "* License: <p xmlns:cc=\"http://creativecommons.org/ns#\" xmlns:dct=\"http://purl.org/dc/terms/\"><a property=\"dct:title\" rel=\"cc:attributionURL\" href=\"https://github.com/cases-umd/census-form-image-processing\">Census Form Image Processing with Computer Vision and Machine Learning</a> by <a rel=\"cc:attributionURL dct:creator\" property=\"cc:attributionName\" href=\"https://github.com/gregjan\">Gregory Jansen & Hebah Emara</a> is licensed under <a href=\"http://creativecommons.org/licenses/by-nc-sa/4.0/?ref=chooser-v1\" target=\"_blank\" rel=\"license noopener noreferrer\" style=\"display:inline-block;\">CC BY-NC-SA 4.0<img style=\"height:22px!important;margin-left:3px;vertical-align:text-bottom;\" src=\"https://mirrors.creativecommons.org/presskit/icons/cc.svg?ref=chooser-v1\"><img style=\"height:22px!important;margin-left:3px;vertical-align:text-bottom;\" src=\"https://mirrors.creativecommons.org/presskit/icons/by.svg?ref=chooser-v1\"><img style=\"height:22px!important;margin-left:3px;vertical-align:text-bottom;\" src=\"https://mirrors.creativecommons.org/presskit/icons/nc.svg?ref=chooser-v1\"><img style=\"height:22px!important;margin-left:3px;vertical-align:text-bottom;\" src=\"https://mirrors.creativecommons.org/presskit/icons/sa.svg?ref=chooser-v1\"></a></p> \n",
    "\n",
    "## Introduction\n",
    "These notebooks provide a guide for sifting through the population schedules of the US 1950 census to find \n",
    "the records that are of interest to researchers. This method allows researchers to better focus their personal\n",
    "transcription labor on the pages that contain relevant information. These code notebooks demonstrate a computer vision technique for segmenting\n",
    "population schedules to extract the individual cell images from the race column. Then the individual cell images are cleaned up\n",
    "and fed into two different neural network models, for identifying the handwritten race code within them. Finally, we created a user\n",
    "interface that allows a researcher to visually review any uncertain results from the above process and thereby create a\n",
    "reliable dataset containing only those population schedule pages that pertain to their research.\n",
    "\n",
    "<img src=\"cases_card.png\" alt=\"One the left, a colorful rendering of long lines detected in a sample docuemnt; On the right a document with a fitted template shown as red lines\" title=\"Splash image showing census form processing examples\" height=\"450\" width=\"720\">\n",
    "\n",
    "### Further Information\n",
    "You can learn more about this project in the corresponding [paper](https://ai-collaboratory.net/wp-content/uploads/2024/11/S01216_9673.pdf), which was presented at the IEEE BigData 2024 workshop on Computational Archival Science.\n",
    "\n",
    "## Learning Goals\n",
    "* Computational Practices:\n",
    "  * Manipulating data - Computational tools make it possible to efficiently and reliably manipulate large and complex archival holdings. Data manipulation includes sorting, filtering, cleaning, normalizing, and joining disparate datasets. (CTP:manipulating_data)\n",
    "  * Constructing computational models - An important practice… is the ability to create new or extend existing computational models. This requires being able to encode the model features in a way that a computer can interpret. (CTP:computational_models_constructing)\n",
    "  * Assessing different approaches to problem-solving - When there are multiple approaches to solving a problem, or multiple solutions to choose from, it is important to be able to assess the options and make an informed decision about which route to follow. Even if two different approaches produce the same correct result, there are other dimensions that should be considered when choosing a solution or approach such as cost, time, durability, extendibility, reusability, and flexibility. (CTP:problem-solving_approaches)\n",
    "* Archival Practices:\n",
    "  * Develop policies and procedures designed to serve the information needs of various user groups, based on evaluation of institutional mandates and constituencies, the nature of the collections, relevant laws and ethical considerations, and appropriate technologies. (ACA:rsa_evaluate_services)\n",
    "  * Identify facility, equipment, and technological needs and prepare and implement plans to meet those needs. (ACA:map_facility_equipment_tech)"
   ]
  },
  {
   "cell_type": "markdown",
   "metadata": {},
   "source": [
    "# Software and Tools\n",
    "In order to run these notebooks a number of tools are needed. Most can be installed via pip and pipenv files have been provided for that purpose. However, OpenCV and the Amazon CLI are installed separately and these two tools may not be installable on all platforms, such as the MyBinder.org service. OpenCV is a computer vision toolkit and the Amazon CLI is used to download the US Census images, provided as a public AWS dataset, courtesy of the US National Archives and Records Administration.\n",
    "\n",
    "* [OpenCV setup instructions](https://docs.opencv.org/4.10.0/da/df6/tutorial_py_table_of_contents_setup.html)\n",
    "* [AWS CLI installation instructions](https://docs.aws.amazon.com/cli/latest/userguide/getting-started-install.html)\n",
    "\n",
    "Instructions are provided on the pages above."
   ]
  },
  {
   "cell_type": "markdown",
   "metadata": {},
   "source": [
    "# Acquiring or Accessing the Data\n",
    "This CASE module has a notebook devoted to downloading the necessary US Census images. Please see [NARA 1950 Census Image Downloads](1_Download_Census_Images.ipynb).\n"
   ]
  },
  {
   "cell_type": "markdown",
   "metadata": {},
   "source": [
    "# Notebooks\n",
    "1. [Notebook 1: NARA 1950 Census Image Downloads](1_Download_Census_Images.ipynb)\n",
    "1. [Notebook 2: Census Form Segmentation by Computer Vision](2b_CV_Form_Segmentation.ipynb)\n",
    "1. [Notebook 2b: Alternative OCR-based approach to segmentation](2a_OCR_Form_Segmentation.ipynb)\n",
    "1. [Notebook 3: Handwritten Character Recognition](3_Handwritten_Character_Recognition.ipynb)\n",
    "1. [Notebook 4: Correcting for Imbalanced Training Data](4_Imbalanced_Data.ipynb)\n",
    "1. [Notebook 5: Creating a Tool for Census Transcription Workflows](5_Operational_Workflow.ipynb)"
   ]
  },
  {
   "cell_type": "code",
   "execution_count": null,
   "metadata": {},
   "outputs": [],
   "source": []
  }
 ],
 "metadata": {
  "cases_info": {
   "computational_practices": [
    "cas:dp_collecting_data",
    "cas:dp_creating_data"
   ]
  },
  "kernelspec": {
   "display_name": "Python 3 (ipykernel)",
   "language": "python",
   "name": "python3"
  },
  "language_info": {
   "codemirror_mode": {
    "name": "ipython",
    "version": 3
   },
   "file_extension": ".py",
   "mimetype": "text/x-python",
   "name": "python",
   "nbconvert_exporter": "python",
   "pygments_lexer": "ipython3",
   "version": "3.10.12"
  },
  "vscode": {
   "interpreter": {
    "hash": "916dbcbb3f70747c44a77c7bcd40155683ae19c65e1c03b4aa3499c5328201f1"
   }
  }
 },
 "nbformat": 4,
 "nbformat_minor": 4
}
