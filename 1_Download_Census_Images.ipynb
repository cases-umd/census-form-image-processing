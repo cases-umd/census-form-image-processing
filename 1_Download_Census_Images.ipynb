{
 "cells": [
  {
   "cell_type": "markdown",
   "metadata": {},
   "source": [
    "# NARA 1950 Census Image Operations\n",
    "\n",
    "This notebook accomplishes a few major functions. (1) First, we'll use AWS CLI commands to access data from the National Archives (NARA). With these commands we'll be able to target and download all of the schedule images (i.e., the scanned census forms) from one or more specific counties within a state. (2) Next, we'll create folders based on the enumeration districts for the selected county and save the images into their respective folders. File and folder names will be based on the JSON files that describe the data housed in NARA. This code will save the schedule images as well as the map images for the associated county. This code can be modified to save images from any county, state combination.   \n",
    "\n",
    "Saving all of the images from NARA will take a significant amount of time. (3) This code includes a loop that will check which files have already been downloaded and will continue wherever it left off. \n",
    "\n",
    "In summary, this notebook will produce the following output: a folder structure with all of the census data (i.e., scanned images) for a given county/state in the 1950 census. The main folder housing all of the data is called \"NARA_downloads_1950\" (can be changed) and the sub-folders are named after the enumeration disctrict (in this case, \"70-1\", \"70-2\", etc.). Within each folder named after an enumeration disctrict are two folders called \"Description Images\" (contains the same information in each enumeration disctrict folder) and \"Schedule Images\" (contains scanned images of the completed census form(s) for that enumeration district). Last, the \"NARA_downloads_1950\" will also include the json file for the state (in this case, California) and a folder called \"Map_Images\" with the maps of the selected county/state."
   ]
  },
  {
   "cell_type": "markdown",
   "metadata": {},
   "source": [
    "### Step 0: Make Sure AWS CLI is Installed\n",
    "\n",
    "Before running any of the code below, make sure you have AWS CLI installed and updated. Here are instructions from Amazon: https://docs.aws.amazon.com/cli/latest/userguide/cli-chap-welcome.html"
   ]
  },
  {
   "cell_type": "markdown",
   "metadata": {},
   "source": [
    "### Step 1: Downloading Census Images\n",
    "\n",
    "This first section of our notebook will download the images for Sacramento, California. \n",
    "\n",
    "In this first chunk of code we're defining the path to the AWS (Amazon Web Services) and creating a directory (download_dir) for our images."
   ]
  },
  {
   "cell_type": "code",
   "execution_count": 1,
   "metadata": {
    "tags": []
   },
   "outputs": [],
   "source": [
    "# Importing key libraries\n",
    "import os, requests, json\n",
    "\n",
    "# Defining key variables\n",
    "CENSUS_YEAR = '1950'\n",
    "AWS_SERVER = f\"https://nara-{CENSUS_YEAR}-census.s3.us-east-2.amazonaws.com/\"\n",
    "\n",
    "# Change the value of DOWNLOAD_DIR here if you want to call your folder something else\n",
    "DOWNLOAD_DIR = 'NARA_downloads_1950'\n",
    "\n",
    "# Create a folder using the value of \"DOWNLOAD_DIR\" if one does not exist\n",
    "if not os.path.exists(f\"{DOWNLOAD_DIR}\"):\n",
    "    os.mkdir(f\"{DOWNLOAD_DIR}\")"
   ]
  },
  {
   "cell_type": "markdown",
   "metadata": {},
   "source": [
    "Next, we'll use the function below to download the JSON file that houses the description for the data of a given state. For example, if we supply \"wa\", it will download Washington state's JSON file to our previously created directory (\"NARA_downloads_1950\"). "
   ]
  },
  {
   "cell_type": "code",
   "execution_count": 2,
   "metadata": {
    "tags": []
   },
   "outputs": [],
   "source": [
    "def download_state_json(state_abbrev):\n",
    "    # Check to see if the json file for the state we're interested in exists in our folder\n",
    "    if not os.path.exists(f\"{DOWNLOAD_DIR}/{state_abbrev}.json\"):\n",
    "        url = f\"{AWS_SERVER}metadata/json/{state_abbrev}.json\"\n",
    "        \n",
    "        # A \"GET\" request is the standard web request for fetching a page/file\n",
    "        print(\"downloading: \"+url)\n",
    "        r = requests.get(url)\n",
    "        \n",
    "        # We will write the GET content to a local JSON file\n",
    "        with open(f\"{DOWNLOAD_DIR}/{state_abbrev}.json\", 'wb') as dest: \n",
    "            dest.write(r.content)"
   ]
  },
  {
   "cell_type": "markdown",
   "metadata": {},
   "source": [
    "Here's how we'll call our function."
   ]
  },
  {
   "cell_type": "code",
   "execution_count": 3,
   "metadata": {},
   "outputs": [
    {
     "name": "stdout",
     "output_type": "stream",
     "text": [
      "downloading: https://nara-1950-census.s3.us-east-2.amazonaws.com/metadata/json/ca.json\n"
     ]
    }
   ],
   "source": [
    "download_state_json('ca')  # This takes a few seconds to download"
   ]
  },
  {
   "cell_type": "markdown",
   "metadata": {},
   "source": [
    "This next function checks to see if we've already got the relevant JSON file in our directory and downloads it if it isn't there. Next, the function loads our JSON data into a variable and returns it as the output so we can begin processing that information."
   ]
  },
  {
   "cell_type": "code",
   "execution_count": null,
   "metadata": {},
   "outputs": [],
   "source": [
    "def get_state_data(state_abbrev):\n",
    "    # Assign the json file to a variable called state_file\n",
    "    state_file = f\"{DOWNLOAD_DIR}/{state_abbrev}.json\"\n",
    "    \n",
    "    # Download the json file if it is missing \n",
    "    if not(os.path.exists(state_file)):\n",
    "        download_state_json(state_abbrev)\n",
    "        \n",
    "    # Open and read the json file\n",
    "    with open(state_file, 'r') as f:\n",
    "        return json.load(f)"
   ]
  },
  {
   "cell_type": "markdown",
   "metadata": {},
   "source": [
    "Next we use the state JSON data to find the list of paths for map images, per county. In the 1950 Census JSON file the map image file paths are repeated in each enumeration district for a given county or city, so we only need to pull the file paths from the first enumeration district (at index 0) for a given county or city to download the relevant maps using OS and the AWS Command Line Interface (CLI). \n",
    "\n",
    "While writing this function, I realized that there is a typo in the JSON metadata file. The file paths for image files should read something like this \"...1950census-maps/California/Sacramento/14-a2-025-00459.jpg\" but instead they're missing a / between the county name and the image name (\"1950census-maps/California/Sacramento14-a2-025-00459.jpg\"). The good news is that there is a small number of map images per county so the workaround would be using a command with AWS CLI to download each image in the folder housing the images (\"1950census-maps/California/Sacramento\"). We can reference the JSON file to see which map images are unique to the city of Sacramento in Sacramento county and manually remove any unnecessary files. In the JSON file, simply find the county/city you're interested in - so 44 in the case of Sacramento, Sacramento - and then look under 'enumeration' > '0' > 'map_image'. The city of Sacramento has 193 enumeration districts for the 1950 census, but since they are all pointing to the same map we can just look at the first district (at index 0 in the JSON file) to check which image files we need to keep. In this case, we only need 14-a2-025-00459.jpg and 14-a2-025-00459b.jpg."
   ]
  },
  {
   "cell_type": "code",
   "execution_count": null,
   "metadata": {},
   "outputs": [],
   "source": [
    "# This is a fucntion to check and create folders\n",
    "def chk_create_dir(dest_path):\n",
    "    # Checking to see if a folder exists and, if not, create one in our destination path\n",
    "    # Destination path = the path to our DOWNLOAD_DIR folder\n",
    "    if not os.path.exists(dest_path):\n",
    "        os.mkdir(f\"{dest_path}\")\n",
    "\n",
    "def get_map_images(dir_name, state, county):\n",
    "    # Creating a destination for the images using our new folder\n",
    "    dest_path = f\"{DOWNLOAD_DIR}/{dir_name}\"\n",
    "    chk_create_dir(dest_path)\n",
    "    # Using --recursive allows us to download all of the items in this folder\n",
    "    map_command = f\"aws s3 cp s3://nara-1950-census/1950census-maps/{state}/{county}/ {dest_path} --no-sign-request --recursive\"\n",
    "    print(map_command)\n",
    "    os.system(map_command)"
   ]
  },
  {
   "cell_type": "markdown",
   "metadata": {},
   "source": [
    "Now we can run our function and get all of the images for the state and county we're interested in."
   ]
  },
  {
   "cell_type": "code",
   "execution_count": 6,
   "metadata": {},
   "outputs": [
    {
     "name": "stdout",
     "output_type": "stream",
     "text": [
      "aws s3 cp s3://nara-1950-census/1950census-maps/California/Sacramento/ NARA_downloads_1950/Map_Images --no-sign-request --recursive\n",
      "download: s3://nara-1950-census/1950census-maps/California/Sacramento/14-a2-025-00460a.jpg to NARA_downloads_1950/Map_Images/14-a2-025-00460a.jpg\n",
      "download: s3://nara-1950-census/1950census-maps/California/Sacramento/14-a2-025-00461b.jpg to NARA_downloads_1950/Map_Images/14-a2-025-00461b.jpg\n",
      "download: s3://nara-1950-census/1950census-maps/California/Sacramento/14-a2-025-00459.jpg to NARA_downloads_1950/Map_Images/14-a2-025-00459.jpg\n",
      "download: s3://nara-1950-census/1950census-maps/California/Sacramento/14-a2-025-00458.jpg to NARA_downloads_1950/Map_Images/14-a2-025-00458.jpg\n",
      "download: s3://nara-1950-census/1950census-maps/California/Sacramento/14-a2-025-00459b.jpg to NARA_downloads_1950/Map_Images/14-a2-025-00459b.jpg\n",
      "download: s3://nara-1950-census/1950census-maps/California/Sacramento/14-a2-025-00461a.jpg to NARA_downloads_1950/Map_Images/14-a2-025-00461a.jpg\n",
      "download: s3://nara-1950-census/1950census-maps/California/Sacramento/14-a2-025-00461d.jpg to NARA_downloads_1950/Map_Images/14-a2-025-00461d.jpg\n",
      "download: s3://nara-1950-census/1950census-maps/California/Sacramento/14-a2-025-00460b.jpg to NARA_downloads_1950/Map_Images/14-a2-025-00460b.jpg\n",
      "download: s3://nara-1950-census/1950census-maps/California/Sacramento/14-a2-025-00461c.jpg to NARA_downloads_1950/Map_Images/14-a2-025-00461c.jpg\n"
     ]
    }
   ],
   "source": [
    "get_map_images('Map_Images', 'California', 'Sacramento') # This will take a few seconds"
   ]
  },
  {
   "cell_type": "markdown",
   "metadata": {},
   "source": [
    "This next function creates a folder structure to house all of our schedule images based on the JSON file we downloaded previously. The final result of this function is that we'll have a folder for each enummeration disctrict in Sacramento with two subfolders for schedule and description images. To run this function, we'll need to know where our county is in the JSON file. To do this, we'll need to find where Sacramento, Sacramento is located and indexed in our JSON file (in this case it is at index 44). \n",
    "\n",
    "The easiest way to do this would be to visit this page (https://www.archives.gov/developer/1950-census) from the National Archives, scroll down to \"Enumeration District Summaries by State\" then click on the JSON file for your state. You can then identify the county or counties by using the filter function (example: https://nara-1950-census.s3.us-east-2.amazonaws.com/metadata/json/ca.json). \n",
    "\n",
    "*Note: this can be included in the code in the future to remove this manual step, however there are some unique entries - Sacramento city appears as Sacramento, Sacramento for example.*"
   ]
  },
  {
   "cell_type": "code",
   "execution_count": null,
   "metadata": {},
   "outputs": [],
   "source": [
    "def create_ed_fldrs(c_index, json_file):\n",
    "    with open(f\"{DOWNLOAD_DIR}/{json_file}\") as f:\n",
    "        data = json.load(f)\n",
    "    count_enum = len(data['county/city'][c_index]['enumeration'])\n",
    "    # Creating empty lists for enunumeration district numbers, image file names, and a range\n",
    "    ed_num_list = []\n",
    "    img_file_list = []\n",
    "    range_list = [*range(count_enum)]\n",
    "    # Adding numbers and file names to each list respectively\n",
    "    for num in range(count_enum):\n",
    "        ed_num = data['county/city'][c_index]['enumeration'][num]['ed']\n",
    "        ed_num_list.append(ed_num)\n",
    "        # Creating folders for each enumeration district \n",
    "        chk_create_dir(f\"{DOWNLOAD_DIR}/{ed_num}\")\n",
    "        chk_create_dir(f\"{DOWNLOAD_DIR}/{ed_num}/Schedule_Images\")\n",
    "        chk_create_dir(f\"{DOWNLOAD_DIR}/{ed_num}/Description_Images\")"
   ]
  },
  {
   "cell_type": "code",
   "execution_count": 8,
   "metadata": {},
   "outputs": [],
   "source": [
    "create_ed_fldrs(44, 'ca.json')"
   ]
  },
  {
   "cell_type": "markdown",
   "metadata": {},
   "source": [
    "Next, we can download all of the schedule image files for the county that we're interested in. Luckily, there aren't any typos in this part of the JSON file so it should be a straightforward process. This function will download all of the files and place them into a folder named after the given enumeration district code as it appears in the JSON file. This function will also check to see if the image files already exist to avoid re-downloading the same image and will return the file name and folder it's located in if it already exists. "
   ]
  },
  {
   "cell_type": "code",
   "execution_count": 10,
   "metadata": {
    "tags": []
   },
   "outputs": [],
   "source": [
    "def get_sched_imgs(c_index, json_file):\n",
    "    # Create & check folders \n",
    "    create_ed_fldrs(c_index, json_file)\n",
    "    \n",
    "    # Open the json file \n",
    "    with open(f\"{DOWNLOAD_DIR}/{json_file}\") as f:\n",
    "        data = json.load(f)\n",
    "        \n",
    "    # Count how many enumeration districts we have\n",
    "    count_enum = len(data['county/city'][c_index]['enumeration'])\n",
    "    \n",
    "    # Create empty lists for enunumeration district numbers, image file names, and a range\n",
    "    ed_num_list = []\n",
    "    img_file_list = []\n",
    "    range_list = [*range(count_enum)]\n",
    "    \n",
    "    # Add numbers and file names to each list respectively\n",
    "    for num in range(count_enum):\n",
    "        ed_num = data['county/city'][c_index]['enumeration'][num]['ed']\n",
    "        ed_num_list.append(ed_num)\n",
    "        \n",
    "    # Check which image files exist in each enumeration district folder \n",
    "    # and downloads only the files that don't yet exist\n",
    "    for ed_num, num in zip(ed_num_list, range_list):\n",
    "        for file in data['county/city'][c_index]['enumeration'][num]['schedule_image']['files']:\n",
    "            img = f\"{DOWNLOAD_DIR}/{ed_num}/Schedule_Images/\" + file\n",
    "            fldr = data['county/city'][c_index]['enumeration'][num]['schedule_image']['folder']\n",
    "            dest_path = f\"{DOWNLOAD_DIR}/{ed_num}/Schedule_Images\"\n",
    "            command = ['aws', 's3', 'cp', f\"s3://nara-1950-census/{fldr}/{file}\", f\"{dest_path}\", '--no-sign-request']\n",
    "            if os.path.exists(img):\n",
    "                print(f\"yes {file} in {ed_num} folder\")\n",
    "            else:\n",
    "                print(command)\n",
    "                from subprocess import Popen, PIPE\n",
    "                process = Popen(command, stdout=PIPE, stderr=PIPE)\n",
    "                stdout, stderr = process.communicate()\n",
    "                # print(stdout)"
   ]
  },
  {
   "cell_type": "code",
   "execution_count": null,
   "metadata": {
    "scrolled": true
   },
   "outputs": [
    {
     "name": "stdout",
     "output_type": "stream",
     "text": [
      "5764\n"
     ]
    }
   ],
   "source": [
    "get_sched_imgs(44, 'ca.json') # This will take a long time"
   ]
  },
  {
   "cell_type": "markdown",
   "metadata": {},
   "source": [
    "Next, I'm going to modify the above function to create a directory with folders for all of the description images. These should take less time to download as there is only one image per enumeration district. Based on the JSON file it looks like each description image covers two enumeartion districts. I also discovered that there's a similar typo with the file path to these images. They should read \".../1950census-descriptions/California/California-0072/California-0072_0001.jpg\" but they are missing the / between the folder name (California-0072) and the image name. I'm using the regular expressions (re) library in Python to get around this issue. \n",
    "\n",
    "This function will similarly check to see if the file already exists and will list the file name and location if it exists in our directory."
   ]
  },
  {
   "cell_type": "code",
   "execution_count": 12,
   "metadata": {},
   "outputs": [],
   "source": [
    "import re\n",
    "\n",
    "def get_desc_imgs(c_index, json_file, state):\n",
    "    # Checks that folders exist & creates them if not \n",
    "    create_ed_fldrs(c_index, json_file)\n",
    "    with open(f\"{DOWNLOAD_DIR}/{json_file}\") as f:\n",
    "        data = json.load(f)\n",
    "    count_enum = len(data['county/city'][c_index]['enumeration'])\n",
    "    # Creating empty lists for enunumeration district numbers and a range\n",
    "    ed_num_list = []\n",
    "    range_list = [*range(count_enum)]\n",
    "    # Adding numbers and file names to each list respectively\n",
    "    for num in range(count_enum):\n",
    "        ed_num = data['county/city'][c_index]['enumeration'][num]['ed']\n",
    "        ed_num_list.append(ed_num)\n",
    "    # Downloads the desc image for the given enumeration district\n",
    "    for ed_num, num in zip(ed_num_list, range_list):\n",
    "        file = data['county/city'][c_index]['enumeration'][num]['description_image']\n",
    "        if file is None:\n",
    "            continue\n",
    "        folder = re.search(fr\"{state}-....\", file).group()\n",
    "        img = re.search(fr\"{state}-...._.....jpg\", file).group()\n",
    "        f_path = f\"1950census-descriptions/{state}/{folder}/{img}\"\n",
    "        dest_path = f\"{DOWNLOAD_DIR}/{ed_num}/Description_Images/\" + img\n",
    "        command = ['aws', 's3', 'cp', f\"s3://nara-1950-census/{f_path}\", f\"{dest_path}\", '--no-sign-request']\n",
    "        if os.path.exists(dest_path):\n",
    "            print(f\"yes {f_path} in {ed_num} folder\")\n",
    "        else:\n",
    "            print(command)\n",
    "            from subprocess import Popen, PIPE\n",
    "            process = Popen(command, stdout=PIPE, stderr=PIPE)\n",
    "            stdout, stderr = process.communicate()\n",
    "            print(stdout)"
   ]
  },
  {
   "cell_type": "code",
   "execution_count": 13,
   "metadata": {},
   "outputs": [
    {
     "name": "stdout",
     "output_type": "stream",
     "text": [
      "['aws', 's3', 'cp', 's3://nara-1950-census/1950census-descriptions/California/California-0072/California-0072_0001.jpg', 'NARA_downloads_1950/70-1/Description_Images/California-0072_0001.jpg', '--no-sign-request']\n",
      "b'Completed 256.0 KiB/938.9 KiB (552.9 KiB/s) with 1 file(s) remaining\\rCompleted 512.0 KiB/938.9 KiB (881.5 KiB/s) with 1 file(s) remaining\\rCompleted 768.0 KiB/938.9 KiB (1.1 MiB/s) with 1 file(s) remaining  \\rCompleted 938.9 KiB/938.9 KiB (1.2 MiB/s) with 1 file(s) remaining  \\rdownload: s3://nara-1950-census/1950census-descriptions/California/California-0072/California-0072_0001.jpg to NARA_downloads_1950/70-1/Description_Images/California-0072_0001.jpg\\n'\n",
      "['aws', 's3', 'cp', 's3://nara-1950-census/1950census-descriptions/California/California-0072/California-0072_0001.jpg', 'NARA_downloads_1950/70-2/Description_Images/California-0072_0001.jpg', '--no-sign-request']\n",
      "b'Completed 256.0 KiB/938.9 KiB (530.3 KiB/s) with 1 file(s) remaining\\rCompleted 512.0 KiB/938.9 KiB (1.0 MiB/s) with 1 file(s) remaining  \\rCompleted 768.0 KiB/938.9 KiB (1.2 MiB/s) with 1 file(s) remaining  \\rCompleted 938.9 KiB/938.9 KiB (1.4 MiB/s) with 1 file(s) remaining  \\rdownload: s3://nara-1950-census/1950census-descriptions/California/California-0072/California-0072_0001.jpg to NARA_downloads_1950/70-2/Description_Images/California-0072_0001.jpg\\n'\n",
      "['aws', 's3', 'cp', 's3://nara-1950-census/1950census-descriptions/California/California-0072/California-0072_0001.jpg', 'NARA_downloads_1950/70-3/Description_Images/California-0072_0001.jpg', '--no-sign-request']\n",
      "b'Completed 256.0 KiB/938.9 KiB (532.0 KiB/s) with 1 file(s) remaining\\rCompleted 512.0 KiB/938.9 KiB (990.4 KiB/s) with 1 file(s) remaining\\rCompleted 768.0 KiB/938.9 KiB (1.2 MiB/s) with 1 file(s) remaining  \\rCompleted 938.9 KiB/938.9 KiB (1.3 MiB/s) with 1 file(s) remaining  \\rdownload: s3://nara-1950-census/1950census-descriptions/California/California-0072/California-0072_0001.jpg to NARA_downloads_1950/70-3/Description_Images/California-0072_0001.jpg\\n'\n",
      "['aws', 's3', 'cp', 's3://nara-1950-census/1950census-descriptions/California/California-0072/California-0072_0002.jpg', 'NARA_downloads_1950/70-4/Description_Images/California-0072_0002.jpg', '--no-sign-request']\n",
      "b'Completed 256.0 KiB/965.8 KiB (473.3 KiB/s) with 1 file(s) remaining\\rCompleted 512.0 KiB/965.8 KiB (815.6 KiB/s) with 1 file(s) remaining\\rCompleted 768.0 KiB/965.8 KiB (1.2 MiB/s) with 1 file(s) remaining  \\rCompleted 965.8 KiB/965.8 KiB (1.3 MiB/s) with 1 file(s) remaining  \\rdownload: s3://nara-1950-census/1950census-descriptions/California/California-0072/California-0072_0002.jpg to NARA_downloads_1950/70-4/Description_Images/California-0072_0002.jpg\\n'\n",
      "['aws', 's3', 'cp', 's3://nara-1950-census/1950census-descriptions/California/California-0072/California-0072_0003.jpg', 'NARA_downloads_1950/70-5B/Description_Images/California-0072_0003.jpg', '--no-sign-request']\n",
      "b'Completed 256.0 KiB/955.2 KiB (591.5 KiB/s) with 1 file(s) remaining\\rCompleted 512.0 KiB/955.2 KiB (1.1 MiB/s) with 1 file(s) remaining  \\rCompleted 768.0 KiB/955.2 KiB (1.4 MiB/s) with 1 file(s) remaining  \\rCompleted 955.2 KiB/955.2 KiB (1.8 MiB/s) with 1 file(s) remaining  \\rdownload: s3://nara-1950-census/1950census-descriptions/California/California-0072/California-0072_0003.jpg to NARA_downloads_1950/70-5B/Description_Images/California-0072_0003.jpg\\n'\n",
      "['aws', 's3', 'cp', 's3://nara-1950-census/1950census-descriptions/California/California-0072/California-0072_0003.jpg', 'NARA_downloads_1950/70-5A/Description_Images/California-0072_0003.jpg', '--no-sign-request']\n",
      "b'Completed 256.0 KiB/955.2 KiB (459.0 KiB/s) with 1 file(s) remaining\\rCompleted 512.0 KiB/955.2 KiB (842.1 KiB/s) with 1 file(s) remaining\\rCompleted 768.0 KiB/955.2 KiB (1.1 MiB/s) with 1 file(s) remaining  \\rCompleted 955.2 KiB/955.2 KiB (1.4 MiB/s) with 1 file(s) remaining  \\rdownload: s3://nara-1950-census/1950census-descriptions/California/California-0072/California-0072_0003.jpg to NARA_downloads_1950/70-5A/Description_Images/California-0072_0003.jpg\\n'\n",
      "['aws', 's3', 'cp', 's3://nara-1950-census/1950census-descriptions/California/California-0072/California-0072_0004.jpg', 'NARA_downloads_1950/70-6/Description_Images/California-0072_0004.jpg', '--no-sign-request']\n",
      "b'Completed 256.0 KiB/952.3 KiB (285.7 KiB/s) with 1 file(s) remaining\\rCompleted 512.0 KiB/952.3 KiB (541.2 KiB/s) with 1 file(s) remaining\\rCompleted 768.0 KiB/952.3 KiB (750.5 KiB/s) with 1 file(s) remaining\\rCompleted 952.3 KiB/952.3 KiB (920.9 KiB/s) with 1 file(s) remaining\\rdownload: s3://nara-1950-census/1950census-descriptions/California/California-0072/California-0072_0004.jpg to NARA_downloads_1950/70-6/Description_Images/California-0072_0004.jpg\\n'\n",
      "['aws', 's3', 'cp', 's3://nara-1950-census/1950census-descriptions/California/California-0072/California-0072_0004.jpg', 'NARA_downloads_1950/70-7/Description_Images/California-0072_0004.jpg', '--no-sign-request']\n",
      "b'Completed 256.0 KiB/952.3 KiB (674.1 KiB/s) with 1 file(s) remaining\\rCompleted 512.0 KiB/952.3 KiB (1.1 MiB/s) with 1 file(s) remaining  \\rCompleted 768.0 KiB/952.3 KiB (1.5 MiB/s) with 1 file(s) remaining  \\rCompleted 952.3 KiB/952.3 KiB (1.6 MiB/s) with 1 file(s) remaining  \\rdownload: s3://nara-1950-census/1950census-descriptions/California/California-0072/California-0072_0004.jpg to NARA_downloads_1950/70-7/Description_Images/California-0072_0004.jpg\\n'\n",
      "['aws', 's3', 'cp', 's3://nara-1950-census/1950census-descriptions/California/California-0072/California-0072_0005.jpg', 'NARA_downloads_1950/70-8/Description_Images/California-0072_0005.jpg', '--no-sign-request']\n",
      "b'Completed 256.0 KiB/929.2 KiB (460.7 KiB/s) with 1 file(s) remaining\\rCompleted 512.0 KiB/929.2 KiB (777.7 KiB/s) with 1 file(s) remaining\\rCompleted 768.0 KiB/929.2 KiB (1.0 MiB/s) with 1 file(s) remaining  \\rCompleted 929.2 KiB/929.2 KiB (1.2 MiB/s) with 1 file(s) remaining  \\rdownload: s3://nara-1950-census/1950census-descriptions/California/California-0072/California-0072_0005.jpg to NARA_downloads_1950/70-8/Description_Images/California-0072_0005.jpg\\n'\n",
      "['aws', 's3', 'cp', 's3://nara-1950-census/1950census-descriptions/California/California-0072/California-0072_0005.jpg', 'NARA_downloads_1950/70-9/Description_Images/California-0072_0005.jpg', '--no-sign-request']\n",
      "b'Completed 256.0 KiB/929.2 KiB (316.2 KiB/s) with 1 file(s) remaining\\rCompleted 512.0 KiB/929.2 KiB (555.0 KiB/s) with 1 file(s) remaining\\rCompleted 768.0 KiB/929.2 KiB (812.3 KiB/s) with 1 file(s) remaining\\rCompleted 929.2 KiB/929.2 KiB (933.9 KiB/s) with 1 file(s) remaining\\rdownload: s3://nara-1950-census/1950census-descriptions/California/California-0072/California-0072_0005.jpg to NARA_downloads_1950/70-9/Description_Images/California-0072_0005.jpg\\n'\n",
      "['aws', 's3', 'cp', 's3://nara-1950-census/1950census-descriptions/California/California-0072/California-0072_0006.jpg', 'NARA_downloads_1950/70-10/Description_Images/California-0072_0006.jpg', '--no-sign-request']\n",
      "b'Completed 256.0 KiB/951.1 KiB (516.2 KiB/s) with 1 file(s) remaining\\rCompleted 512.0 KiB/951.1 KiB (886.6 KiB/s) with 1 file(s) remaining\\rCompleted 768.0 KiB/951.1 KiB (1.1 MiB/s) with 1 file(s) remaining  \\rCompleted 951.1 KiB/951.1 KiB (1.3 MiB/s) with 1 file(s) remaining  \\rdownload: s3://nara-1950-census/1950census-descriptions/California/California-0072/California-0072_0006.jpg to NARA_downloads_1950/70-10/Description_Images/California-0072_0006.jpg\\n'\n",
      "['aws', 's3', 'cp', 's3://nara-1950-census/1950census-descriptions/California/California-0072/California-0072_0006.jpg', 'NARA_downloads_1950/70-11/Description_Images/California-0072_0006.jpg', '--no-sign-request']\n",
      "b'Completed 256.0 KiB/951.1 KiB (311.6 KiB/s) with 1 file(s) remaining\\rCompleted 512.0 KiB/951.1 KiB (567.1 KiB/s) with 1 file(s) remaining\\rCompleted 768.0 KiB/951.1 KiB (708.9 KiB/s) with 1 file(s) remaining\\rCompleted 951.1 KiB/951.1 KiB (771.3 KiB/s) with 1 file(s) remaining\\rdownload: s3://nara-1950-census/1950census-descriptions/California/California-0072/California-0072_0006.jpg to NARA_downloads_1950/70-11/Description_Images/California-0072_0006.jpg\\n'\n",
      "['aws', 's3', 'cp', 's3://nara-1950-census/1950census-descriptions/California/California-0072/California-0072_0007.jpg', 'NARA_downloads_1950/70-12/Description_Images/California-0072_0007.jpg', '--no-sign-request']\n",
      "b'Completed 256.0 KiB/946.1 KiB (393.0 KiB/s) with 1 file(s) remaining\\rCompleted 512.0 KiB/946.1 KiB (708.9 KiB/s) with 1 file(s) remaining\\rCompleted 768.0 KiB/946.1 KiB (938.5 KiB/s) with 1 file(s) remaining\\rCompleted 946.1 KiB/946.1 KiB (1.0 MiB/s) with 1 file(s) remaining  \\rdownload: s3://nara-1950-census/1950census-descriptions/California/California-0072/California-0072_0007.jpg to NARA_downloads_1950/70-12/Description_Images/California-0072_0007.jpg\\n'\n",
      "['aws', 's3', 'cp', 's3://nara-1950-census/1950census-descriptions/California/California-0072/California-0072_0007.jpg', 'NARA_downloads_1950/70-13/Description_Images/California-0072_0007.jpg', '--no-sign-request']\n",
      "b'Completed 256.0 KiB/946.1 KiB (332.9 KiB/s) with 1 file(s) remaining\\rCompleted 512.0 KiB/946.1 KiB (626.2 KiB/s) with 1 file(s) remaining\\rCompleted 768.0 KiB/946.1 KiB (876.4 KiB/s) with 1 file(s) remaining\\rCompleted 946.1 KiB/946.1 KiB (1019.7 KiB/s) with 1 file(s) remaining\\rdownload: s3://nara-1950-census/1950census-descriptions/California/California-0072/California-0072_0007.jpg to NARA_downloads_1950/70-13/Description_Images/California-0072_0007.jpg\\n'\n",
      "['aws', 's3', 'cp', 's3://nara-1950-census/1950census-descriptions/California/California-0072/California-0072_0008.jpg', 'NARA_downloads_1950/70-14/Description_Images/California-0072_0008.jpg', '--no-sign-request']\n",
      "b'Completed 256.0 KiB/961.4 KiB (317.8 KiB/s) with 1 file(s) remaining\\rCompleted 512.0 KiB/961.4 KiB (511.0 KiB/s) with 1 file(s) remaining\\rCompleted 768.0 KiB/961.4 KiB (656.3 KiB/s) with 1 file(s) remaining\\rCompleted 961.4 KiB/961.4 KiB (742.2 KiB/s) with 1 file(s) remaining\\rdownload: s3://nara-1950-census/1950census-descriptions/California/California-0072/California-0072_0008.jpg to NARA_downloads_1950/70-14/Description_Images/California-0072_0008.jpg\\n'\n",
      "['aws', 's3', 'cp', 's3://nara-1950-census/1950census-descriptions/California/California-0072/California-0072_0008.jpg', 'NARA_downloads_1950/70-15/Description_Images/California-0072_0008.jpg', '--no-sign-request']\n",
      "b'Completed 256.0 KiB/961.4 KiB (488.3 KiB/s) with 1 file(s) remaining\\rCompleted 512.0 KiB/961.4 KiB (793.2 KiB/s) with 1 file(s) remaining\\rCompleted 768.0 KiB/961.4 KiB (1.1 MiB/s) with 1 file(s) remaining  \\rCompleted 961.4 KiB/961.4 KiB (1.2 MiB/s) with 1 file(s) remaining  \\rdownload: s3://nara-1950-census/1950census-descriptions/California/California-0072/California-0072_0008.jpg to NARA_downloads_1950/70-15/Description_Images/California-0072_0008.jpg\\n'\n",
      "['aws', 's3', 'cp', 's3://nara-1950-census/1950census-descriptions/California/California-0072/California-0072_0009.jpg', 'NARA_downloads_1950/70-16/Description_Images/California-0072_0009.jpg', '--no-sign-request']\n",
      "b'Completed 256.0 KiB/925.6 KiB (452.8 KiB/s) with 1 file(s) remaining\\rCompleted 512.0 KiB/925.6 KiB (829.5 KiB/s) with 1 file(s) remaining\\rCompleted 768.0 KiB/925.6 KiB (1.1 MiB/s) with 1 file(s) remaining  \\rCompleted 925.6 KiB/925.6 KiB (1.3 MiB/s) with 1 file(s) remaining  \\rdownload: s3://nara-1950-census/1950census-descriptions/California/California-0072/California-0072_0009.jpg to NARA_downloads_1950/70-16/Description_Images/California-0072_0009.jpg\\n'\n",
      "['aws', 's3', 'cp', 's3://nara-1950-census/1950census-descriptions/California/California-0072/California-0072_0009.jpg', 'NARA_downloads_1950/70-17/Description_Images/California-0072_0009.jpg', '--no-sign-request']\n",
      "b'Completed 256.0 KiB/925.6 KiB (332.7 KiB/s) with 1 file(s) remaining\\rCompleted 512.0 KiB/925.6 KiB (622.3 KiB/s) with 1 file(s) remaining\\rCompleted 768.0 KiB/925.6 KiB (823.7 KiB/s) with 1 file(s) remaining\\rCompleted 925.6 KiB/925.6 KiB (940.2 KiB/s) with 1 file(s) remaining\\rdownload: s3://nara-1950-census/1950census-descriptions/California/California-0072/California-0072_0009.jpg to NARA_downloads_1950/70-17/Description_Images/California-0072_0009.jpg\\n'\n",
      "['aws', 's3', 'cp', 's3://nara-1950-census/1950census-descriptions/California/California-0072/California-0072_0010.jpg', 'NARA_downloads_1950/70-18/Description_Images/California-0072_0010.jpg', '--no-sign-request']\n",
      "b'Completed 256.0 KiB/911.4 KiB (341.0 KiB/s) with 1 file(s) remaining\\rCompleted 512.0 KiB/911.4 KiB (662.4 KiB/s) with 1 file(s) remaining\\rCompleted 768.0 KiB/911.4 KiB (957.1 KiB/s) with 1 file(s) remaining\\rCompleted 911.4 KiB/911.4 KiB (1.1 MiB/s) with 1 file(s) remaining  \\rdownload: s3://nara-1950-census/1950census-descriptions/California/California-0072/California-0072_0010.jpg to NARA_downloads_1950/70-18/Description_Images/California-0072_0010.jpg\\n'\n",
      "['aws', 's3', 'cp', 's3://nara-1950-census/1950census-descriptions/California/California-0072/California-0072_0010.jpg', 'NARA_downloads_1950/70-19/Description_Images/California-0072_0010.jpg', '--no-sign-request']\n",
      "b'Completed 256.0 KiB/911.4 KiB (383.9 KiB/s) with 1 file(s) remaining\\rCompleted 512.0 KiB/911.4 KiB (703.3 KiB/s) with 1 file(s) remaining\\rCompleted 768.0 KiB/911.4 KiB (1006.2 KiB/s) with 1 file(s) remaining\\rCompleted 911.4 KiB/911.4 KiB (1.1 MiB/s) with 1 file(s) remaining   \\rdownload: s3://nara-1950-census/1950census-descriptions/California/California-0072/California-0072_0010.jpg to NARA_downloads_1950/70-19/Description_Images/California-0072_0010.jpg\\n'\n",
      "['aws', 's3', 'cp', 's3://nara-1950-census/1950census-descriptions/California/California-0072/California-0072_0011.jpg', 'NARA_downloads_1950/70-20/Description_Images/California-0072_0011.jpg', '--no-sign-request']\n",
      "b'Completed 256.0 KiB/929.2 KiB (313.5 KiB/s) with 1 file(s) remaining\\rCompleted 512.0 KiB/929.2 KiB (546.1 KiB/s) with 1 file(s) remaining\\rCompleted 768.0 KiB/929.2 KiB (724.4 KiB/s) with 1 file(s) remaining\\rCompleted 929.2 KiB/929.2 KiB (759.5 KiB/s) with 1 file(s) remaining\\rdownload: s3://nara-1950-census/1950census-descriptions/California/California-0072/California-0072_0011.jpg to NARA_downloads_1950/70-20/Description_Images/California-0072_0011.jpg\\n'\n",
      "['aws', 's3', 'cp', 's3://nara-1950-census/1950census-descriptions/California/California-0072/California-0072_0011.jpg', 'NARA_downloads_1950/70-21/Description_Images/California-0072_0011.jpg', '--no-sign-request']\n",
      "b'Completed 256.0 KiB/929.2 KiB (235.4 KiB/s) with 1 file(s) remaining\\rCompleted 512.0 KiB/929.2 KiB (388.4 KiB/s) with 1 file(s) remaining\\rCompleted 768.0 KiB/929.2 KiB (502.4 KiB/s) with 1 file(s) remaining\\rCompleted 929.2 KiB/929.2 KiB (566.3 KiB/s) with 1 file(s) remaining\\rdownload: s3://nara-1950-census/1950census-descriptions/California/California-0072/California-0072_0011.jpg to NARA_downloads_1950/70-21/Description_Images/California-0072_0011.jpg\\n'\n",
      "['aws', 's3', 'cp', 's3://nara-1950-census/1950census-descriptions/California/California-0072/California-0072_0012.jpg', 'NARA_downloads_1950/70-22/Description_Images/California-0072_0012.jpg', '--no-sign-request']\n",
      "b'Completed 256.0 KiB/935.5 KiB (440.5 KiB/s) with 1 file(s) remaining\\rCompleted 512.0 KiB/935.5 KiB (626.8 KiB/s) with 1 file(s) remaining\\rCompleted 768.0 KiB/935.5 KiB (744.7 KiB/s) with 1 file(s) remaining\\rCompleted 935.5 KiB/935.5 KiB (824.7 KiB/s) with 1 file(s) remaining\\rdownload: s3://nara-1950-census/1950census-descriptions/California/California-0072/California-0072_0012.jpg to NARA_downloads_1950/70-22/Description_Images/California-0072_0012.jpg\\n'\n",
      "['aws', 's3', 'cp', 's3://nara-1950-census/1950census-descriptions/California/California-0072/California-0072_0012.jpg', 'NARA_downloads_1950/70-23/Description_Images/California-0072_0012.jpg', '--no-sign-request']\n",
      "b'Completed 256.0 KiB/935.5 KiB (639.3 KiB/s) with 1 file(s) remaining\\rCompleted 512.0 KiB/935.5 KiB (1020.6 KiB/s) with 1 file(s) remaining\\rCompleted 768.0 KiB/935.5 KiB (1.2 MiB/s) with 1 file(s) remaining   \\rCompleted 935.5 KiB/935.5 KiB (1.2 MiB/s) with 1 file(s) remaining   \\rdownload: s3://nara-1950-census/1950census-descriptions/California/California-0072/California-0072_0012.jpg to NARA_downloads_1950/70-23/Description_Images/California-0072_0012.jpg\\n'\n",
      "['aws', 's3', 'cp', 's3://nara-1950-census/1950census-descriptions/California/California-0072/California-0072_0013.jpg', 'NARA_downloads_1950/70-24/Description_Images/California-0072_0013.jpg', '--no-sign-request']\n",
      "b'Completed 256.0 KiB/932.5 KiB (142.6 KiB/s) with 1 file(s) remaining\\rCompleted 512.0 KiB/932.5 KiB (231.6 KiB/s) with 1 file(s) remaining\\rCompleted 768.0 KiB/932.5 KiB (296.4 KiB/s) with 1 file(s) remaining\\rCompleted 932.5 KiB/932.5 KiB (336.7 KiB/s) with 1 file(s) remaining\\rdownload: s3://nara-1950-census/1950census-descriptions/California/California-0072/California-0072_0013.jpg to NARA_downloads_1950/70-24/Description_Images/California-0072_0013.jpg\\n'\n",
      "['aws', 's3', 'cp', 's3://nara-1950-census/1950census-descriptions/California/California-0072/California-0072_0013.jpg', 'NARA_downloads_1950/70-25/Description_Images/California-0072_0013.jpg', '--no-sign-request']\n",
      "b'Completed 256.0 KiB/932.5 KiB (689.2 KiB/s) with 1 file(s) remaining\\rCompleted 512.0 KiB/932.5 KiB (1.2 MiB/s) with 1 file(s) remaining  \\rCompleted 768.0 KiB/932.5 KiB (1.6 MiB/s) with 1 file(s) remaining  \\rCompleted 932.5 KiB/932.5 KiB (1.8 MiB/s) with 1 file(s) remaining  \\rdownload: s3://nara-1950-census/1950census-descriptions/California/California-0072/California-0072_0013.jpg to NARA_downloads_1950/70-25/Description_Images/California-0072_0013.jpg\\n'\n",
      "['aws', 's3', 'cp', 's3://nara-1950-census/1950census-descriptions/California/California-0072/California-0072_0014.jpg', 'NARA_downloads_1950/70-26/Description_Images/California-0072_0014.jpg', '--no-sign-request']\n",
      "b'Completed 256.0 KiB/927.9 KiB (507.6 KiB/s) with 1 file(s) remaining\\rCompleted 512.0 KiB/927.9 KiB (806.9 KiB/s) with 1 file(s) remaining\\rCompleted 768.0 KiB/927.9 KiB (1023.4 KiB/s) with 1 file(s) remaining\\rCompleted 927.9 KiB/927.9 KiB (1.1 MiB/s) with 1 file(s) remaining   \\rdownload: s3://nara-1950-census/1950census-descriptions/California/California-0072/California-0072_0014.jpg to NARA_downloads_1950/70-26/Description_Images/California-0072_0014.jpg\\n'\n",
      "['aws', 's3', 'cp', 's3://nara-1950-census/1950census-descriptions/California/California-0072/California-0072_0014.jpg', 'NARA_downloads_1950/70-27/Description_Images/California-0072_0014.jpg', '--no-sign-request']\n",
      "b'Completed 256.0 KiB/927.9 KiB (320.6 KiB/s) with 1 file(s) remaining\\rCompleted 512.0 KiB/927.9 KiB (563.8 KiB/s) with 1 file(s) remaining\\rCompleted 768.0 KiB/927.9 KiB (772.5 KiB/s) with 1 file(s) remaining\\rCompleted 927.9 KiB/927.9 KiB (851.1 KiB/s) with 1 file(s) remaining\\rdownload: s3://nara-1950-census/1950census-descriptions/California/California-0072/California-0072_0014.jpg to NARA_downloads_1950/70-27/Description_Images/California-0072_0014.jpg\\n'\n",
      "['aws', 's3', 'cp', 's3://nara-1950-census/1950census-descriptions/California/California-0072/California-0072_0015.jpg', 'NARA_downloads_1950/70-28/Description_Images/California-0072_0015.jpg', '--no-sign-request']\n",
      "b'Completed 256.0 KiB/940.9 KiB (573.0 KiB/s) with 1 file(s) remaining\\rCompleted 512.0 KiB/940.9 KiB (1.0 MiB/s) with 1 file(s) remaining  \\rCompleted 768.0 KiB/940.9 KiB (1.3 MiB/s) with 1 file(s) remaining  \\rCompleted 940.9 KiB/940.9 KiB (1.5 MiB/s) with 1 file(s) remaining  \\rdownload: s3://nara-1950-census/1950census-descriptions/California/California-0072/California-0072_0015.jpg to NARA_downloads_1950/70-28/Description_Images/California-0072_0015.jpg\\n'\n",
      "['aws', 's3', 'cp', 's3://nara-1950-census/1950census-descriptions/California/California-0072/California-0072_0015.jpg', 'NARA_downloads_1950/70-29/Description_Images/California-0072_0015.jpg', '--no-sign-request']\n",
      "b'Completed 256.0 KiB/940.9 KiB (545.3 KiB/s) with 1 file(s) remaining\\rCompleted 512.0 KiB/940.9 KiB (991.6 KiB/s) with 1 file(s) remaining\\rCompleted 768.0 KiB/940.9 KiB (1.4 MiB/s) with 1 file(s) remaining  \\rCompleted 940.9 KiB/940.9 KiB (1.7 MiB/s) with 1 file(s) remaining  \\rdownload: s3://nara-1950-census/1950census-descriptions/California/California-0072/California-0072_0015.jpg to NARA_downloads_1950/70-29/Description_Images/California-0072_0015.jpg\\n'\n",
      "['aws', 's3', 'cp', 's3://nara-1950-census/1950census-descriptions/California/California-0072/California-0072_0016.jpg', 'NARA_downloads_1950/70-30/Description_Images/California-0072_0016.jpg', '--no-sign-request']\n",
      "b'Completed 256.0 KiB/967.0 KiB (517.7 KiB/s) with 1 file(s) remaining\\rCompleted 512.0 KiB/967.0 KiB (953.3 KiB/s) with 1 file(s) remaining\\rCompleted 768.0 KiB/967.0 KiB (1.2 MiB/s) with 1 file(s) remaining  \\rCompleted 967.0 KiB/967.0 KiB (1.2 MiB/s) with 1 file(s) remaining  \\rdownload: s3://nara-1950-census/1950census-descriptions/California/California-0072/California-0072_0016.jpg to NARA_downloads_1950/70-30/Description_Images/California-0072_0016.jpg\\n'\n",
      "['aws', 's3', 'cp', 's3://nara-1950-census/1950census-descriptions/California/California-0072/California-0072_0016.jpg', 'NARA_downloads_1950/70-31/Description_Images/California-0072_0016.jpg', '--no-sign-request']\n",
      "b'Completed 256.0 KiB/967.0 KiB (358.7 KiB/s) with 1 file(s) remaining\\rCompleted 512.0 KiB/967.0 KiB (655.3 KiB/s) with 1 file(s) remaining\\rCompleted 768.0 KiB/967.0 KiB (947.9 KiB/s) with 1 file(s) remaining\\rCompleted 967.0 KiB/967.0 KiB (1.1 MiB/s) with 1 file(s) remaining  \\rdownload: s3://nara-1950-census/1950census-descriptions/California/California-0072/California-0072_0016.jpg to NARA_downloads_1950/70-31/Description_Images/California-0072_0016.jpg\\n'\n",
      "['aws', 's3', 'cp', 's3://nara-1950-census/1950census-descriptions/California/California-0072/California-0072_0016.jpg', 'NARA_downloads_1950/70-32/Description_Images/California-0072_0016.jpg', '--no-sign-request']\n",
      "b'Completed 256.0 KiB/967.0 KiB (446.3 KiB/s) with 1 file(s) remaining\\rCompleted 512.0 KiB/967.0 KiB (656.2 KiB/s) with 1 file(s) remaining\\rCompleted 768.0 KiB/967.0 KiB (773.4 KiB/s) with 1 file(s) remaining\\rCompleted 967.0 KiB/967.0 KiB (843.6 KiB/s) with 1 file(s) remaining\\rdownload: s3://nara-1950-census/1950census-descriptions/California/California-0072/California-0072_0016.jpg to NARA_downloads_1950/70-32/Description_Images/California-0072_0016.jpg\\n'\n",
      "['aws', 's3', 'cp', 's3://nara-1950-census/1950census-descriptions/California/California-0072/California-0072_0017.jpg', 'NARA_downloads_1950/70-33/Description_Images/California-0072_0017.jpg', '--no-sign-request']\n",
      "b'Completed 256.0 KiB/963.7 KiB (386.1 KiB/s) with 1 file(s) remaining\\rCompleted 512.0 KiB/963.7 KiB (549.4 KiB/s) with 1 file(s) remaining\\rCompleted 768.0 KiB/963.7 KiB (665.4 KiB/s) with 1 file(s) remaining\\rCompleted 963.7 KiB/963.7 KiB (735.0 KiB/s) with 1 file(s) remaining\\rdownload: s3://nara-1950-census/1950census-descriptions/California/California-0072/California-0072_0017.jpg to NARA_downloads_1950/70-33/Description_Images/California-0072_0017.jpg\\n'\n",
      "['aws', 's3', 'cp', 's3://nara-1950-census/1950census-descriptions/California/California-0072/California-0072_0017.jpg', 'NARA_downloads_1950/70-34/Description_Images/California-0072_0017.jpg', '--no-sign-request']\n",
      "b'Completed 256.0 KiB/963.7 KiB (628.0 KiB/s) with 1 file(s) remaining\\rCompleted 512.0 KiB/963.7 KiB (1.1 MiB/s) with 1 file(s) remaining  \\rCompleted 768.0 KiB/963.7 KiB (1.6 MiB/s) with 1 file(s) remaining  \\rCompleted 963.7 KiB/963.7 KiB (1.8 MiB/s) with 1 file(s) remaining  \\rdownload: s3://nara-1950-census/1950census-descriptions/California/California-0072/California-0072_0017.jpg to NARA_downloads_1950/70-34/Description_Images/California-0072_0017.jpg\\n'\n",
      "['aws', 's3', 'cp', 's3://nara-1950-census/1950census-descriptions/California/California-0072/California-0072_0017.jpg', 'NARA_downloads_1950/70-35/Description_Images/California-0072_0017.jpg', '--no-sign-request']\n",
      "b'Completed 256.0 KiB/963.7 KiB (585.2 KiB/s) with 1 file(s) remaining\\rCompleted 512.0 KiB/963.7 KiB (876.7 KiB/s) with 1 file(s) remaining\\rCompleted 768.0 KiB/963.7 KiB (1.1 MiB/s) with 1 file(s) remaining  \\rCompleted 963.7 KiB/963.7 KiB (830.1 KiB/s) with 1 file(s) remaining\\rdownload: s3://nara-1950-census/1950census-descriptions/California/California-0072/California-0072_0017.jpg to NARA_downloads_1950/70-35/Description_Images/California-0072_0017.jpg\\n'\n",
      "['aws', 's3', 'cp', 's3://nara-1950-census/1950census-descriptions/California/California-0072/California-0072_0018.jpg', 'NARA_downloads_1950/70-36/Description_Images/California-0072_0018.jpg', '--no-sign-request']\n",
      "b'Completed 256.0 KiB/950.0 KiB (547.7 KiB/s) with 1 file(s) remaining\\rCompleted 512.0 KiB/950.0 KiB (924.1 KiB/s) with 1 file(s) remaining\\rCompleted 768.0 KiB/950.0 KiB (1.2 MiB/s) with 1 file(s) remaining  \\rCompleted 950.0 KiB/950.0 KiB (1.4 MiB/s) with 1 file(s) remaining  \\rdownload: s3://nara-1950-census/1950census-descriptions/California/California-0072/California-0072_0018.jpg to NARA_downloads_1950/70-36/Description_Images/California-0072_0018.jpg\\n'\n",
      "['aws', 's3', 'cp', 's3://nara-1950-census/1950census-descriptions/California/California-0072/California-0072_0018.jpg', 'NARA_downloads_1950/70-37/Description_Images/California-0072_0018.jpg', '--no-sign-request']\n",
      "b'Completed 256.0 KiB/950.0 KiB (337.1 KiB/s) with 1 file(s) remaining\\rCompleted 512.0 KiB/950.0 KiB (575.1 KiB/s) with 1 file(s) remaining\\rCompleted 768.0 KiB/950.0 KiB (777.0 KiB/s) with 1 file(s) remaining\\rCompleted 950.0 KiB/950.0 KiB (923.1 KiB/s) with 1 file(s) remaining\\rdownload: s3://nara-1950-census/1950census-descriptions/California/California-0072/California-0072_0018.jpg to NARA_downloads_1950/70-37/Description_Images/California-0072_0018.jpg\\n'\n",
      "['aws', 's3', 'cp', 's3://nara-1950-census/1950census-descriptions/California/California-0072/California-0072_0018.jpg', 'NARA_downloads_1950/70-38/Description_Images/California-0072_0018.jpg', '--no-sign-request']\n",
      "b'Completed 256.0 KiB/950.0 KiB (476.6 KiB/s) with 1 file(s) remaining\\rCompleted 512.0 KiB/950.0 KiB (805.2 KiB/s) with 1 file(s) remaining\\rCompleted 768.0 KiB/950.0 KiB (1.0 MiB/s) with 1 file(s) remaining  \\rCompleted 950.0 KiB/950.0 KiB (1.2 MiB/s) with 1 file(s) remaining  \\rdownload: s3://nara-1950-census/1950census-descriptions/California/California-0072/California-0072_0018.jpg to NARA_downloads_1950/70-38/Description_Images/California-0072_0018.jpg\\n'\n",
      "['aws', 's3', 'cp', 's3://nara-1950-census/1950census-descriptions/California/California-0072/California-0072_0019.jpg', 'NARA_downloads_1950/70-39/Description_Images/California-0072_0019.jpg', '--no-sign-request']\n",
      "b'Completed 256.0 KiB/982.2 KiB (433.6 KiB/s) with 1 file(s) remaining\\rCompleted 512.0 KiB/982.2 KiB (729.5 KiB/s) with 1 file(s) remaining\\rCompleted 768.0 KiB/982.2 KiB (969.6 KiB/s) with 1 file(s) remaining\\rCompleted 982.2 KiB/982.2 KiB (1.0 MiB/s) with 1 file(s) remaining  \\rdownload: s3://nara-1950-census/1950census-descriptions/California/California-0072/California-0072_0019.jpg to NARA_downloads_1950/70-39/Description_Images/California-0072_0019.jpg\\n'\n",
      "['aws', 's3', 'cp', 's3://nara-1950-census/1950census-descriptions/California/California-0072/California-0072_0019.jpg', 'NARA_downloads_1950/70-40/Description_Images/California-0072_0019.jpg', '--no-sign-request']\n",
      "b'Completed 256.0 KiB/982.2 KiB (579.8 KiB/s) with 1 file(s) remaining\\rCompleted 512.0 KiB/982.2 KiB (961.8 KiB/s) with 1 file(s) remaining\\rCompleted 768.0 KiB/982.2 KiB (1.2 MiB/s) with 1 file(s) remaining  \\rCompleted 982.2 KiB/982.2 KiB (1.4 MiB/s) with 1 file(s) remaining  \\rdownload: s3://nara-1950-census/1950census-descriptions/California/California-0072/California-0072_0019.jpg to NARA_downloads_1950/70-40/Description_Images/California-0072_0019.jpg\\n'\n",
      "['aws', 's3', 'cp', 's3://nara-1950-census/1950census-descriptions/California/California-0072/California-0072_0019.jpg', 'NARA_downloads_1950/70-41/Description_Images/California-0072_0019.jpg', '--no-sign-request']\n",
      "b'Completed 256.0 KiB/982.2 KiB (321.1 KiB/s) with 1 file(s) remaining\\rCompleted 512.0 KiB/982.2 KiB (569.6 KiB/s) with 1 file(s) remaining\\rCompleted 768.0 KiB/982.2 KiB (755.9 KiB/s) with 1 file(s) remaining\\rCompleted 982.2 KiB/982.2 KiB (893.1 KiB/s) with 1 file(s) remaining\\rdownload: s3://nara-1950-census/1950census-descriptions/California/California-0072/California-0072_0019.jpg to NARA_downloads_1950/70-41/Description_Images/California-0072_0019.jpg\\n'\n",
      "['aws', 's3', 'cp', 's3://nara-1950-census/1950census-descriptions/California/California-0072/California-0072_0019.jpg', 'NARA_downloads_1950/70-42/Description_Images/California-0072_0019.jpg', '--no-sign-request']\n",
      "b'Completed 256.0 KiB/982.2 KiB (18.1 KiB/s) with 1 file(s) remaining\\rCompleted 512.0 KiB/982.2 KiB (34.7 KiB/s) with 1 file(s) remaining\\rCompleted 768.0 KiB/982.2 KiB (50.5 KiB/s) with 1 file(s) remaining\\rCompleted 982.2 KiB/982.2 KiB (62.7 KiB/s) with 1 file(s) remaining\\rdownload: s3://nara-1950-census/1950census-descriptions/California/California-0072/California-0072_0019.jpg to NARA_downloads_1950/70-42/Description_Images/California-0072_0019.jpg\\n'\n",
      "['aws', 's3', 'cp', 's3://nara-1950-census/1950census-descriptions/California/California-0072/California-0072_0020.jpg', 'NARA_downloads_1950/70-43/Description_Images/California-0072_0020.jpg', '--no-sign-request']\n",
      "b'Completed 256.0 KiB/975.1 KiB (122.7 KiB/s) with 1 file(s) remaining\\rCompleted 512.0 KiB/975.1 KiB (203.8 KiB/s) with 1 file(s) remaining\\rCompleted 768.0 KiB/975.1 KiB (243.5 KiB/s) with 1 file(s) remaining\\rCompleted 975.1 KiB/975.1 KiB (283.4 KiB/s) with 1 file(s) remaining\\rdownload: s3://nara-1950-census/1950census-descriptions/California/California-0072/California-0072_0020.jpg to NARA_downloads_1950/70-43/Description_Images/California-0072_0020.jpg\\n'\n",
      "['aws', 's3', 'cp', 's3://nara-1950-census/1950census-descriptions/California/California-0072/California-0072_0020.jpg', 'NARA_downloads_1950/70-44/Description_Images/California-0072_0020.jpg', '--no-sign-request']\n",
      "b'Completed 256.0 KiB/975.1 KiB (556.3 KiB/s) with 1 file(s) remaining\\rCompleted 512.0 KiB/975.1 KiB (889.8 KiB/s) with 1 file(s) remaining\\rCompleted 768.0 KiB/975.1 KiB (1.0 MiB/s) with 1 file(s) remaining  \\rCompleted 975.1 KiB/975.1 KiB (1.2 MiB/s) with 1 file(s) remaining  \\rdownload: s3://nara-1950-census/1950census-descriptions/California/California-0072/California-0072_0020.jpg to NARA_downloads_1950/70-44/Description_Images/California-0072_0020.jpg\\n'\n",
      "['aws', 's3', 'cp', 's3://nara-1950-census/1950census-descriptions/California/California-0072/California-0072_0020.jpg', 'NARA_downloads_1950/70-45/Description_Images/California-0072_0020.jpg', '--no-sign-request']\n",
      "b'Completed 256.0 KiB/975.1 KiB (492.0 KiB/s) with 1 file(s) remaining\\rCompleted 512.0 KiB/975.1 KiB (860.5 KiB/s) with 1 file(s) remaining\\rCompleted 768.0 KiB/975.1 KiB (1.3 MiB/s) with 1 file(s) remaining  \\rCompleted 975.1 KiB/975.1 KiB (1.5 MiB/s) with 1 file(s) remaining  \\rdownload: s3://nara-1950-census/1950census-descriptions/California/California-0072/California-0072_0020.jpg to NARA_downloads_1950/70-45/Description_Images/California-0072_0020.jpg\\n'\n",
      "['aws', 's3', 'cp', 's3://nara-1950-census/1950census-descriptions/California/California-0072/California-0072_0020.jpg', 'NARA_downloads_1950/70-46/Description_Images/California-0072_0020.jpg', '--no-sign-request']\n",
      "b'Completed 256.0 KiB/975.1 KiB (379.0 KiB/s) with 1 file(s) remaining\\rCompleted 512.0 KiB/975.1 KiB (697.4 KiB/s) with 1 file(s) remaining\\rCompleted 768.0 KiB/975.1 KiB (921.5 KiB/s) with 1 file(s) remaining\\rCompleted 975.1 KiB/975.1 KiB (1.1 MiB/s) with 1 file(s) remaining  \\rdownload: s3://nara-1950-census/1950census-descriptions/California/California-0072/California-0072_0020.jpg to NARA_downloads_1950/70-46/Description_Images/California-0072_0020.jpg\\n'\n",
      "['aws', 's3', 'cp', 's3://nara-1950-census/1950census-descriptions/California/California-0072/California-0072_0021.jpg', 'NARA_downloads_1950/70-47/Description_Images/California-0072_0021.jpg', '--no-sign-request']\n",
      "b'Completed 256.0 KiB/954.1 KiB (317.2 KiB/s) with 1 file(s) remaining\\rCompleted 512.0 KiB/954.1 KiB (518.2 KiB/s) with 1 file(s) remaining\\rCompleted 768.0 KiB/954.1 KiB (667.3 KiB/s) with 1 file(s) remaining\\rCompleted 954.1 KiB/954.1 KiB (729.7 KiB/s) with 1 file(s) remaining\\rdownload: s3://nara-1950-census/1950census-descriptions/California/California-0072/California-0072_0021.jpg to NARA_downloads_1950/70-47/Description_Images/California-0072_0021.jpg\\n'\n",
      "['aws', 's3', 'cp', 's3://nara-1950-census/1950census-descriptions/California/California-0072/California-0072_0021.jpg', 'NARA_downloads_1950/70-48/Description_Images/California-0072_0021.jpg', '--no-sign-request']\n",
      "b'Completed 256.0 KiB/954.1 KiB (606.6 KiB/s) with 1 file(s) remaining\\rCompleted 512.0 KiB/954.1 KiB (1.1 MiB/s) with 1 file(s) remaining  \\rCompleted 768.0 KiB/954.1 KiB (1.3 MiB/s) with 1 file(s) remaining  \\rCompleted 954.1 KiB/954.1 KiB (1.6 MiB/s) with 1 file(s) remaining  \\rdownload: s3://nara-1950-census/1950census-descriptions/California/California-0072/California-0072_0021.jpg to NARA_downloads_1950/70-48/Description_Images/California-0072_0021.jpg\\n'\n",
      "['aws', 's3', 'cp', 's3://nara-1950-census/1950census-descriptions/California/California-0072/California-0072_0021.jpg', 'NARA_downloads_1950/70-49/Description_Images/California-0072_0021.jpg', '--no-sign-request']\n",
      "b'Completed 256.0 KiB/954.1 KiB (681.3 KiB/s) with 1 file(s) remaining\\rCompleted 512.0 KiB/954.1 KiB (1.0 MiB/s) with 1 file(s) remaining  \\rCompleted 768.0 KiB/954.1 KiB (1.3 MiB/s) with 1 file(s) remaining  \\rCompleted 954.1 KiB/954.1 KiB (1.3 MiB/s) with 1 file(s) remaining  \\rdownload: s3://nara-1950-census/1950census-descriptions/California/California-0072/California-0072_0021.jpg to NARA_downloads_1950/70-49/Description_Images/California-0072_0021.jpg\\n'\n",
      "['aws', 's3', 'cp', 's3://nara-1950-census/1950census-descriptions/California/California-0072/California-0072_0022.jpg', 'NARA_downloads_1950/70-50/Description_Images/California-0072_0022.jpg', '--no-sign-request']\n",
      "b'Completed 256.0 KiB/960.4 KiB (483.8 KiB/s) with 1 file(s) remaining\\rCompleted 512.0 KiB/960.4 KiB (886.9 KiB/s) with 1 file(s) remaining\\rCompleted 768.0 KiB/960.4 KiB (1.0 MiB/s) with 1 file(s) remaining  \\rCompleted 960.4 KiB/960.4 KiB (1.3 MiB/s) with 1 file(s) remaining  \\rdownload: s3://nara-1950-census/1950census-descriptions/California/California-0072/California-0072_0022.jpg to NARA_downloads_1950/70-50/Description_Images/California-0072_0022.jpg\\n'\n",
      "['aws', 's3', 'cp', 's3://nara-1950-census/1950census-descriptions/California/California-0072/California-0072_0022.jpg', 'NARA_downloads_1950/70-51/Description_Images/California-0072_0022.jpg', '--no-sign-request']\n",
      "b'Completed 256.0 KiB/960.4 KiB (324.5 KiB/s) with 1 file(s) remaining\\rCompleted 512.0 KiB/960.4 KiB (576.4 KiB/s) with 1 file(s) remaining\\rCompleted 768.0 KiB/960.4 KiB (754.3 KiB/s) with 1 file(s) remaining\\rCompleted 960.4 KiB/960.4 KiB (884.6 KiB/s) with 1 file(s) remaining\\rdownload: s3://nara-1950-census/1950census-descriptions/California/California-0072/California-0072_0022.jpg to NARA_downloads_1950/70-51/Description_Images/California-0072_0022.jpg\\n'\n",
      "['aws', 's3', 'cp', 's3://nara-1950-census/1950census-descriptions/California/California-0072/California-0072_0022.jpg', 'NARA_downloads_1950/70-52/Description_Images/California-0072_0022.jpg', '--no-sign-request']\n",
      "b'Completed 256.0 KiB/960.4 KiB (512.4 KiB/s) with 1 file(s) remaining\\rCompleted 512.0 KiB/960.4 KiB (706.5 KiB/s) with 1 file(s) remaining\\rCompleted 768.0 KiB/960.4 KiB (802.0 KiB/s) with 1 file(s) remaining\\rCompleted 960.4 KiB/960.4 KiB (898.9 KiB/s) with 1 file(s) remaining\\rdownload: s3://nara-1950-census/1950census-descriptions/California/California-0072/California-0072_0022.jpg to NARA_downloads_1950/70-52/Description_Images/California-0072_0022.jpg\\n'\n",
      "['aws', 's3', 'cp', 's3://nara-1950-census/1950census-descriptions/California/California-0072/California-0072_0023.jpg', 'NARA_downloads_1950/70-53/Description_Images/California-0072_0023.jpg', '--no-sign-request']\n",
      "b'Completed 256.0 KiB/943.4 KiB (439.9 KiB/s) with 1 file(s) remaining\\rCompleted 512.0 KiB/943.4 KiB (765.0 KiB/s) with 1 file(s) remaining\\rCompleted 768.0 KiB/943.4 KiB (1.0 MiB/s) with 1 file(s) remaining  \\rCompleted 943.4 KiB/943.4 KiB (1.2 MiB/s) with 1 file(s) remaining  \\rdownload: s3://nara-1950-census/1950census-descriptions/California/California-0072/California-0072_0023.jpg to NARA_downloads_1950/70-53/Description_Images/California-0072_0023.jpg\\n'\n",
      "['aws', 's3', 'cp', 's3://nara-1950-census/1950census-descriptions/California/California-0072/California-0072_0023.jpg', 'NARA_downloads_1950/70-54/Description_Images/California-0072_0023.jpg', '--no-sign-request']\n",
      "b'Completed 256.0 KiB/943.4 KiB (346.6 KiB/s) with 1 file(s) remaining\\rCompleted 512.0 KiB/943.4 KiB (563.7 KiB/s) with 1 file(s) remaining\\rCompleted 768.0 KiB/943.4 KiB (756.8 KiB/s) with 1 file(s) remaining\\rCompleted 943.4 KiB/943.4 KiB (862.7 KiB/s) with 1 file(s) remaining\\rdownload: s3://nara-1950-census/1950census-descriptions/California/California-0072/California-0072_0023.jpg to NARA_downloads_1950/70-54/Description_Images/California-0072_0023.jpg\\n'\n",
      "['aws', 's3', 'cp', 's3://nara-1950-census/1950census-descriptions/California/California-0072/California-0072_0023.jpg', 'NARA_downloads_1950/70-55/Description_Images/California-0072_0023.jpg', '--no-sign-request']\n",
      "b'Completed 256.0 KiB/943.4 KiB (154.4 KiB/s) with 1 file(s) remaining\\rCompleted 512.0 KiB/943.4 KiB (291.6 KiB/s) with 1 file(s) remaining\\rCompleted 768.0 KiB/943.4 KiB (428.9 KiB/s) with 1 file(s) remaining\\rCompleted 943.4 KiB/943.4 KiB (519.0 KiB/s) with 1 file(s) remaining\\rdownload: s3://nara-1950-census/1950census-descriptions/California/California-0072/California-0072_0023.jpg to NARA_downloads_1950/70-55/Description_Images/California-0072_0023.jpg\\n'\n",
      "['aws', 's3', 'cp', 's3://nara-1950-census/1950census-descriptions/California/California-0072/California-0072_0024.jpg', 'NARA_downloads_1950/70-56/Description_Images/California-0072_0024.jpg', '--no-sign-request']\n",
      "b'Completed 256.0 KiB/912.7 KiB (426.3 KiB/s) with 1 file(s) remaining\\rCompleted 512.0 KiB/912.7 KiB (696.3 KiB/s) with 1 file(s) remaining\\rCompleted 768.0 KiB/912.7 KiB (877.7 KiB/s) with 1 file(s) remaining\\rCompleted 912.7 KiB/912.7 KiB (986.7 KiB/s) with 1 file(s) remaining\\rdownload: s3://nara-1950-census/1950census-descriptions/California/California-0072/California-0072_0024.jpg to NARA_downloads_1950/70-56/Description_Images/California-0072_0024.jpg\\n'\n",
      "['aws', 's3', 'cp', 's3://nara-1950-census/1950census-descriptions/California/California-0072/California-0072_0024.jpg', 'NARA_downloads_1950/70-57/Description_Images/California-0072_0024.jpg', '--no-sign-request']\n",
      "b'Completed 256.0 KiB/912.7 KiB (519.9 KiB/s) with 1 file(s) remaining\\rCompleted 512.0 KiB/912.7 KiB (852.2 KiB/s) with 1 file(s) remaining\\rCompleted 768.0 KiB/912.7 KiB (1015.6 KiB/s) with 1 file(s) remaining\\rCompleted 912.7 KiB/912.7 KiB (1.1 MiB/s) with 1 file(s) remaining   \\rdownload: s3://nara-1950-census/1950census-descriptions/California/California-0072/California-0072_0024.jpg to NARA_downloads_1950/70-57/Description_Images/California-0072_0024.jpg\\n'\n",
      "['aws', 's3', 'cp', 's3://nara-1950-census/1950census-descriptions/California/California-0072/California-0072_0025.jpg', 'NARA_downloads_1950/70-58/Description_Images/California-0072_0025.jpg', '--no-sign-request']\n",
      "b'Completed 256.0 KiB/985.2 KiB (473.7 KiB/s) with 1 file(s) remaining\\rCompleted 512.0 KiB/985.2 KiB (769.9 KiB/s) with 1 file(s) remaining\\rCompleted 768.0 KiB/985.2 KiB (855.0 KiB/s) with 1 file(s) remaining\\rCompleted 985.2 KiB/985.2 KiB (942.0 KiB/s) with 1 file(s) remaining\\rdownload: s3://nara-1950-census/1950census-descriptions/California/California-0072/California-0072_0025.jpg to NARA_downloads_1950/70-58/Description_Images/California-0072_0025.jpg\\n'\n",
      "['aws', 's3', 'cp', 's3://nara-1950-census/1950census-descriptions/California/California-0072/California-0072_0025.jpg', 'NARA_downloads_1950/70-59/Description_Images/California-0072_0025.jpg', '--no-sign-request']\n",
      "b'Completed 256.0 KiB/985.2 KiB (580.2 KiB/s) with 1 file(s) remaining\\rCompleted 512.0 KiB/985.2 KiB (1014.5 KiB/s) with 1 file(s) remaining\\rCompleted 768.0 KiB/985.2 KiB (1.3 MiB/s) with 1 file(s) remaining   \\rCompleted 985.2 KiB/985.2 KiB (1.5 MiB/s) with 1 file(s) remaining   \\rdownload: s3://nara-1950-census/1950census-descriptions/California/California-0072/California-0072_0025.jpg to NARA_downloads_1950/70-59/Description_Images/California-0072_0025.jpg\\n'\n",
      "['aws', 's3', 'cp', 's3://nara-1950-census/1950census-descriptions/California/California-0072/California-0072_0025.jpg', 'NARA_downloads_1950/70-60/Description_Images/California-0072_0025.jpg', '--no-sign-request']\n",
      "b'Completed 256.0 KiB/985.2 KiB (329.9 KiB/s) with 1 file(s) remaining\\rCompleted 512.0 KiB/985.2 KiB (591.3 KiB/s) with 1 file(s) remaining\\rCompleted 768.0 KiB/985.2 KiB (783.2 KiB/s) with 1 file(s) remaining\\rCompleted 985.2 KiB/985.2 KiB (925.7 KiB/s) with 1 file(s) remaining\\rdownload: s3://nara-1950-census/1950census-descriptions/California/California-0072/California-0072_0025.jpg to NARA_downloads_1950/70-60/Description_Images/California-0072_0025.jpg\\n'\n",
      "['aws', 's3', 'cp', 's3://nara-1950-census/1950census-descriptions/California/California-0072/California-0072_0025.jpg', 'NARA_downloads_1950/70-61/Description_Images/California-0072_0025.jpg', '--no-sign-request']\n",
      "b'Completed 256.0 KiB/985.2 KiB (352.1 KiB/s) with 1 file(s) remaining\\rCompleted 512.0 KiB/985.2 KiB (468.5 KiB/s) with 1 file(s) remaining\\rCompleted 768.0 KiB/985.2 KiB (534.7 KiB/s) with 1 file(s) remaining\\rCompleted 985.2 KiB/985.2 KiB (561.7 KiB/s) with 1 file(s) remaining\\rdownload: s3://nara-1950-census/1950census-descriptions/California/California-0072/California-0072_0025.jpg to NARA_downloads_1950/70-61/Description_Images/California-0072_0025.jpg\\n'\n",
      "['aws', 's3', 'cp', 's3://nara-1950-census/1950census-descriptions/California/California-0072/California-0072_0026.jpg', 'NARA_downloads_1950/70-62/Description_Images/California-0072_0026.jpg', '--no-sign-request']\n",
      "b'Completed 256.0 KiB/1007.6 KiB (544.1 KiB/s) with 1 file(s) remaining\\rCompleted 512.0 KiB/1007.6 KiB (959.7 KiB/s) with 1 file(s) remaining\\rCompleted 768.0 KiB/1007.6 KiB (1.2 MiB/s) with 1 file(s) remaining  \\rCompleted 1007.6 KiB/1007.6 KiB (1.4 MiB/s) with 1 file(s) remaining \\rdownload: s3://nara-1950-census/1950census-descriptions/California/California-0072/California-0072_0026.jpg to NARA_downloads_1950/70-62/Description_Images/California-0072_0026.jpg\\n'\n",
      "['aws', 's3', 'cp', 's3://nara-1950-census/1950census-descriptions/California/California-0072/California-0072_0026.jpg', 'NARA_downloads_1950/70-63/Description_Images/California-0072_0026.jpg', '--no-sign-request']\n",
      "b'Completed 256.0 KiB/1007.6 KiB (417.9 KiB/s) with 1 file(s) remaining\\rCompleted 512.0 KiB/1007.6 KiB (727.0 KiB/s) with 1 file(s) remaining\\rCompleted 768.0 KiB/1007.6 KiB (949.2 KiB/s) with 1 file(s) remaining\\rCompleted 1007.6 KiB/1007.6 KiB (1.1 MiB/s) with 1 file(s) remaining \\rdownload: s3://nara-1950-census/1950census-descriptions/California/California-0072/California-0072_0026.jpg to NARA_downloads_1950/70-63/Description_Images/California-0072_0026.jpg\\n'\n",
      "['aws', 's3', 'cp', 's3://nara-1950-census/1950census-descriptions/California/California-0072/California-0072_0026.jpg', 'NARA_downloads_1950/70-64/Description_Images/California-0072_0026.jpg', '--no-sign-request']\n",
      "b'Completed 256.0 KiB/1007.6 KiB (262.4 KiB/s) with 1 file(s) remaining\\rCompleted 512.0 KiB/1007.6 KiB (307.5 KiB/s) with 1 file(s) remaining\\rCompleted 768.0 KiB/1007.6 KiB (344.5 KiB/s) with 1 file(s) remaining\\rCompleted 1007.6 KiB/1007.6 KiB (367.4 KiB/s) with 1 file(s) remaining\\rdownload: s3://nara-1950-census/1950census-descriptions/California/California-0072/California-0072_0026.jpg to NARA_downloads_1950/70-64/Description_Images/California-0072_0026.jpg\\n'\n",
      "['aws', 's3', 'cp', 's3://nara-1950-census/1950census-descriptions/California/California-0072/California-0072_0026.jpg', 'NARA_downloads_1950/70-65/Description_Images/California-0072_0026.jpg', '--no-sign-request']\n",
      "b'Completed 256.0 KiB/1007.6 KiB (613.0 KiB/s) with 1 file(s) remaining\\rCompleted 512.0 KiB/1007.6 KiB (999.8 KiB/s) with 1 file(s) remaining\\rCompleted 768.0 KiB/1007.6 KiB (1.3 MiB/s) with 1 file(s) remaining  \\rCompleted 1007.6 KiB/1007.6 KiB (1.6 MiB/s) with 1 file(s) remaining \\rdownload: s3://nara-1950-census/1950census-descriptions/California/California-0072/California-0072_0026.jpg to NARA_downloads_1950/70-65/Description_Images/California-0072_0026.jpg\\n'\n",
      "['aws', 's3', 'cp', 's3://nara-1950-census/1950census-descriptions/California/California-0072/California-0072_0027.jpg', 'NARA_downloads_1950/70-66/Description_Images/California-0072_0027.jpg', '--no-sign-request']\n",
      "b'Completed 256.0 KiB/1002.5 KiB (398.3 KiB/s) with 1 file(s) remaining\\rCompleted 512.0 KiB/1002.5 KiB (587.5 KiB/s) with 1 file(s) remaining\\rCompleted 768.0 KiB/1002.5 KiB (672.1 KiB/s) with 1 file(s) remaining\\rCompleted 1002.5 KiB/1002.5 KiB (737.2 KiB/s) with 1 file(s) remaining\\rdownload: s3://nara-1950-census/1950census-descriptions/California/California-0072/California-0072_0027.jpg to NARA_downloads_1950/70-66/Description_Images/California-0072_0027.jpg\\n'\n",
      "['aws', 's3', 'cp', 's3://nara-1950-census/1950census-descriptions/California/California-0072/California-0072_0027.jpg', 'NARA_downloads_1950/70-67/Description_Images/California-0072_0027.jpg', '--no-sign-request']\n",
      "b'Completed 256.0 KiB/1002.5 KiB (390.9 KiB/s) with 1 file(s) remaining\\rCompleted 512.0 KiB/1002.5 KiB (590.1 KiB/s) with 1 file(s) remaining\\rCompleted 768.0 KiB/1002.5 KiB (623.6 KiB/s) with 1 file(s) remaining\\rCompleted 1002.5 KiB/1002.5 KiB (665.3 KiB/s) with 1 file(s) remaining\\rdownload: s3://nara-1950-census/1950census-descriptions/California/California-0072/California-0072_0027.jpg to NARA_downloads_1950/70-67/Description_Images/California-0072_0027.jpg\\n'\n",
      "['aws', 's3', 'cp', 's3://nara-1950-census/1950census-descriptions/California/California-0072/California-0072_0027.jpg', 'NARA_downloads_1950/70-68/Description_Images/California-0072_0027.jpg', '--no-sign-request']\n",
      "b'Completed 256.0 KiB/1002.5 KiB (442.7 KiB/s) with 1 file(s) remaining\\rCompleted 512.0 KiB/1002.5 KiB (679.0 KiB/s) with 1 file(s) remaining\\rCompleted 768.0 KiB/1002.5 KiB (802.1 KiB/s) with 1 file(s) remaining\\rCompleted 1002.5 KiB/1002.5 KiB (907.7 KiB/s) with 1 file(s) remaining\\rdownload: s3://nara-1950-census/1950census-descriptions/California/California-0072/California-0072_0027.jpg to NARA_downloads_1950/70-68/Description_Images/California-0072_0027.jpg\\n'\n",
      "['aws', 's3', 'cp', 's3://nara-1950-census/1950census-descriptions/California/California-0072/California-0072_0027.jpg', 'NARA_downloads_1950/70-69/Description_Images/California-0072_0027.jpg', '--no-sign-request']\n",
      "b'Completed 256.0 KiB/1002.5 KiB (395.5 KiB/s) with 1 file(s) remaining\\rCompleted 512.0 KiB/1002.5 KiB (564.2 KiB/s) with 1 file(s) remaining\\rCompleted 768.0 KiB/1002.5 KiB (662.3 KiB/s) with 1 file(s) remaining\\rCompleted 1002.5 KiB/1002.5 KiB (721.2 KiB/s) with 1 file(s) remaining\\rdownload: s3://nara-1950-census/1950census-descriptions/California/California-0072/California-0072_0027.jpg to NARA_downloads_1950/70-69/Description_Images/California-0072_0027.jpg\\n'\n",
      "['aws', 's3', 'cp', 's3://nara-1950-census/1950census-descriptions/California/California-0072/California-0072_0027.jpg', 'NARA_downloads_1950/70-70/Description_Images/California-0072_0027.jpg', '--no-sign-request']\n",
      "b'Completed 256.0 KiB/1002.5 KiB (321.2 KiB/s) with 1 file(s) remaining\\rCompleted 512.0 KiB/1002.5 KiB (544.2 KiB/s) with 1 file(s) remaining\\rCompleted 768.0 KiB/1002.5 KiB (678.7 KiB/s) with 1 file(s) remaining\\rCompleted 1002.5 KiB/1002.5 KiB (781.5 KiB/s) with 1 file(s) remaining\\rdownload: s3://nara-1950-census/1950census-descriptions/California/California-0072/California-0072_0027.jpg to NARA_downloads_1950/70-70/Description_Images/California-0072_0027.jpg\\n'\n",
      "['aws', 's3', 'cp', 's3://nara-1950-census/1950census-descriptions/California/California-0072/California-0072_0027.jpg', 'NARA_downloads_1950/70-71/Description_Images/California-0072_0027.jpg', '--no-sign-request']\n",
      "b'Completed 256.0 KiB/1002.5 KiB (563.7 KiB/s) with 1 file(s) remaining\\rCompleted 512.0 KiB/1002.5 KiB (934.1 KiB/s) with 1 file(s) remaining\\rCompleted 768.0 KiB/1002.5 KiB (1.0 MiB/s) with 1 file(s) remaining  \\rCompleted 1002.5 KiB/1002.5 KiB (1.1 MiB/s) with 1 file(s) remaining \\rdownload: s3://nara-1950-census/1950census-descriptions/California/California-0072/California-0072_0027.jpg to NARA_downloads_1950/70-71/Description_Images/California-0072_0027.jpg\\n'\n",
      "['aws', 's3', 'cp', 's3://nara-1950-census/1950census-descriptions/California/California-0072/California-0072_0027.jpg', 'NARA_downloads_1950/70-72/Description_Images/California-0072_0027.jpg', '--no-sign-request']\n",
      "b'Completed 256.0 KiB/1002.5 KiB (403.6 KiB/s) with 1 file(s) remaining\\rCompleted 512.0 KiB/1002.5 KiB (682.5 KiB/s) with 1 file(s) remaining\\rCompleted 768.0 KiB/1002.5 KiB (866.1 KiB/s) with 1 file(s) remaining\\rCompleted 1002.5 KiB/1002.5 KiB (1.1 MiB/s) with 1 file(s) remaining \\rdownload: s3://nara-1950-census/1950census-descriptions/California/California-0072/California-0072_0027.jpg to NARA_downloads_1950/70-72/Description_Images/California-0072_0027.jpg\\n'\n",
      "['aws', 's3', 'cp', 's3://nara-1950-census/1950census-descriptions/California/California-0072/California-0072_0028.jpg', 'NARA_downloads_1950/70-73/Description_Images/California-0072_0028.jpg', '--no-sign-request']\n",
      "b'Completed 256.0 KiB/961.1 KiB (318.0 KiB/s) with 1 file(s) remaining\\rCompleted 512.0 KiB/961.1 KiB (501.5 KiB/s) with 1 file(s) remaining\\rCompleted 768.0 KiB/961.1 KiB (666.3 KiB/s) with 1 file(s) remaining\\rCompleted 961.1 KiB/961.1 KiB (744.6 KiB/s) with 1 file(s) remaining\\rdownload: s3://nara-1950-census/1950census-descriptions/California/California-0072/California-0072_0028.jpg to NARA_downloads_1950/70-73/Description_Images/California-0072_0028.jpg\\n'\n",
      "['aws', 's3', 'cp', 's3://nara-1950-census/1950census-descriptions/California/California-0072/California-0072_0028.jpg', 'NARA_downloads_1950/70-74/Description_Images/California-0072_0028.jpg', '--no-sign-request']\n",
      "b'Completed 256.0 KiB/961.1 KiB (463.7 KiB/s) with 1 file(s) remaining\\rCompleted 512.0 KiB/961.1 KiB (657.7 KiB/s) with 1 file(s) remaining\\rCompleted 768.0 KiB/961.1 KiB (784.1 KiB/s) with 1 file(s) remaining\\rCompleted 961.1 KiB/961.1 KiB (856.5 KiB/s) with 1 file(s) remaining\\rdownload: s3://nara-1950-census/1950census-descriptions/California/California-0072/California-0072_0028.jpg to NARA_downloads_1950/70-74/Description_Images/California-0072_0028.jpg\\n'\n",
      "['aws', 's3', 'cp', 's3://nara-1950-census/1950census-descriptions/California/California-0072/California-0072_0028.jpg', 'NARA_downloads_1950/70-75/Description_Images/California-0072_0028.jpg', '--no-sign-request']\n",
      "b'Completed 256.0 KiB/961.1 KiB (438.7 KiB/s) with 1 file(s) remaining\\rCompleted 512.0 KiB/961.1 KiB (634.0 KiB/s) with 1 file(s) remaining\\rCompleted 768.0 KiB/961.1 KiB (694.5 KiB/s) with 1 file(s) remaining\\rCompleted 961.1 KiB/961.1 KiB (735.6 KiB/s) with 1 file(s) remaining\\rdownload: s3://nara-1950-census/1950census-descriptions/California/California-0072/California-0072_0028.jpg to NARA_downloads_1950/70-75/Description_Images/California-0072_0028.jpg\\n'\n",
      "['aws', 's3', 'cp', 's3://nara-1950-census/1950census-descriptions/California/California-0072/California-0072_0029.jpg', 'NARA_downloads_1950/70-76/Description_Images/California-0072_0029.jpg', '--no-sign-request']\n",
      "b'Completed 256.0 KiB/968.1 KiB (136.8 KiB/s) with 1 file(s) remaining\\rCompleted 512.0 KiB/968.1 KiB (204.3 KiB/s) with 1 file(s) remaining\\rCompleted 768.0 KiB/968.1 KiB (262.9 KiB/s) with 1 file(s) remaining\\rCompleted 968.1 KiB/968.1 KiB (294.2 KiB/s) with 1 file(s) remaining\\rdownload: s3://nara-1950-census/1950census-descriptions/California/California-0072/California-0072_0029.jpg to NARA_downloads_1950/70-76/Description_Images/California-0072_0029.jpg\\n'\n",
      "['aws', 's3', 'cp', 's3://nara-1950-census/1950census-descriptions/California/California-0072/California-0072_0029.jpg', 'NARA_downloads_1950/70-77/Description_Images/California-0072_0029.jpg', '--no-sign-request']\n",
      "b'Completed 256.0 KiB/968.1 KiB (355.6 KiB/s) with 1 file(s) remaining\\rCompleted 512.0 KiB/968.1 KiB (610.3 KiB/s) with 1 file(s) remaining\\rCompleted 768.0 KiB/968.1 KiB (753.0 KiB/s) with 1 file(s) remaining\\rCompleted 968.1 KiB/968.1 KiB (826.8 KiB/s) with 1 file(s) remaining\\rdownload: s3://nara-1950-census/1950census-descriptions/California/California-0072/California-0072_0029.jpg to NARA_downloads_1950/70-77/Description_Images/California-0072_0029.jpg\\n'\n",
      "['aws', 's3', 'cp', 's3://nara-1950-census/1950census-descriptions/California/California-0072/California-0072_0029.jpg', 'NARA_downloads_1950/70-78/Description_Images/California-0072_0029.jpg', '--no-sign-request']\n",
      "b'Completed 256.0 KiB/968.1 KiB (569.3 KiB/s) with 1 file(s) remaining\\rCompleted 512.0 KiB/968.1 KiB (469.1 KiB/s) with 1 file(s) remaining\\rCompleted 768.0 KiB/968.1 KiB (548.3 KiB/s) with 1 file(s) remaining\\rCompleted 968.1 KiB/968.1 KiB (616.2 KiB/s) with 1 file(s) remaining\\rdownload: s3://nara-1950-census/1950census-descriptions/California/California-0072/California-0072_0029.jpg to NARA_downloads_1950/70-78/Description_Images/California-0072_0029.jpg\\n'\n",
      "['aws', 's3', 'cp', 's3://nara-1950-census/1950census-descriptions/California/California-0072/California-0072_0030.jpg', 'NARA_downloads_1950/70-79/Description_Images/California-0072_0030.jpg', '--no-sign-request']\n",
      "b'Completed 256.0 KiB/916.5 KiB (358.3 KiB/s) with 1 file(s) remaining\\rCompleted 512.0 KiB/916.5 KiB (431.5 KiB/s) with 1 file(s) remaining\\rCompleted 768.0 KiB/916.5 KiB (482.7 KiB/s) with 1 file(s) remaining\\rCompleted 916.5 KiB/916.5 KiB (524.7 KiB/s) with 1 file(s) remaining\\rdownload: s3://nara-1950-census/1950census-descriptions/California/California-0072/California-0072_0030.jpg to NARA_downloads_1950/70-79/Description_Images/California-0072_0030.jpg\\n'\n",
      "['aws', 's3', 'cp', 's3://nara-1950-census/1950census-descriptions/California/California-0072/California-0072_0030.jpg', 'NARA_downloads_1950/70-80/Description_Images/California-0072_0030.jpg', '--no-sign-request']\n",
      "b'Completed 256.0 KiB/916.5 KiB (317.6 KiB/s) with 1 file(s) remaining\\rCompleted 512.0 KiB/916.5 KiB (444.8 KiB/s) with 1 file(s) remaining\\rCompleted 768.0 KiB/916.5 KiB (577.3 KiB/s) with 1 file(s) remaining\\rCompleted 916.5 KiB/916.5 KiB (622.2 KiB/s) with 1 file(s) remaining\\rdownload: s3://nara-1950-census/1950census-descriptions/California/California-0072/California-0072_0030.jpg to NARA_downloads_1950/70-80/Description_Images/California-0072_0030.jpg\\n'\n",
      "['aws', 's3', 'cp', 's3://nara-1950-census/1950census-descriptions/California/California-0072/California-0072_0030.jpg', 'NARA_downloads_1950/70-81/Description_Images/California-0072_0030.jpg', '--no-sign-request']\n",
      "b'Completed 256.0 KiB/916.5 KiB (214.1 KiB/s) with 1 file(s) remaining\\rCompleted 512.0 KiB/916.5 KiB (350.9 KiB/s) with 1 file(s) remaining\\rCompleted 768.0 KiB/916.5 KiB (483.3 KiB/s) with 1 file(s) remaining\\rCompleted 916.5 KiB/916.5 KiB (550.2 KiB/s) with 1 file(s) remaining\\rdownload: s3://nara-1950-census/1950census-descriptions/California/California-0072/California-0072_0030.jpg to NARA_downloads_1950/70-81/Description_Images/California-0072_0030.jpg\\n'\n",
      "['aws', 's3', 'cp', 's3://nara-1950-census/1950census-descriptions/California/California-0072/California-0072_0031.jpg', 'NARA_downloads_1950/70-82/Description_Images/California-0072_0031.jpg', '--no-sign-request']\n",
      "b'Completed 256.0 KiB/936.2 KiB (239.6 KiB/s) with 1 file(s) remaining\\rCompleted 512.0 KiB/936.2 KiB (424.6 KiB/s) with 1 file(s) remaining\\rCompleted 768.0 KiB/936.2 KiB (572.6 KiB/s) with 1 file(s) remaining\\rCompleted 936.2 KiB/936.2 KiB (665.8 KiB/s) with 1 file(s) remaining\\rdownload: s3://nara-1950-census/1950census-descriptions/California/California-0072/California-0072_0031.jpg to NARA_downloads_1950/70-82/Description_Images/California-0072_0031.jpg\\n'\n",
      "['aws', 's3', 'cp', 's3://nara-1950-census/1950census-descriptions/California/California-0072/California-0072_0031.jpg', 'NARA_downloads_1950/70-84/Description_Images/California-0072_0031.jpg', '--no-sign-request']\n",
      "b'Completed 256.0 KiB/936.2 KiB (547.7 KiB/s) with 1 file(s) remaining\\rCompleted 512.0 KiB/936.2 KiB (970.2 KiB/s) with 1 file(s) remaining\\rCompleted 768.0 KiB/936.2 KiB (1.2 MiB/s) with 1 file(s) remaining  \\rCompleted 936.2 KiB/936.2 KiB (1.5 MiB/s) with 1 file(s) remaining  \\rdownload: s3://nara-1950-census/1950census-descriptions/California/California-0072/California-0072_0031.jpg to NARA_downloads_1950/70-84/Description_Images/California-0072_0031.jpg\\n'\n",
      "['aws', 's3', 'cp', 's3://nara-1950-census/1950census-descriptions/California/California-0072/California-0072_0033.jpg', 'NARA_downloads_1950/70-85/Description_Images/California-0072_0033.jpg', '--no-sign-request']\n",
      "b'Completed 256.0 KiB/946.1 KiB (459.7 KiB/s) with 1 file(s) remaining\\rCompleted 512.0 KiB/946.1 KiB (668.6 KiB/s) with 1 file(s) remaining\\rCompleted 768.0 KiB/946.1 KiB (832.5 KiB/s) with 1 file(s) remaining\\rCompleted 946.1 KiB/946.1 KiB (920.9 KiB/s) with 1 file(s) remaining\\rdownload: s3://nara-1950-census/1950census-descriptions/California/California-0072/California-0072_0033.jpg to NARA_downloads_1950/70-85/Description_Images/California-0072_0033.jpg\\n'\n",
      "['aws', 's3', 'cp', 's3://nara-1950-census/1950census-descriptions/California/California-0072/California-0072_0033.jpg', 'NARA_downloads_1950/70-86/Description_Images/California-0072_0033.jpg', '--no-sign-request']\n",
      "b'Completed 256.0 KiB/946.1 KiB (419.0 KiB/s) with 1 file(s) remaining\\rCompleted 512.0 KiB/946.1 KiB (711.8 KiB/s) with 1 file(s) remaining\\rCompleted 768.0 KiB/946.1 KiB (1008.3 KiB/s) with 1 file(s) remaining\\rCompleted 946.1 KiB/946.1 KiB (1.1 MiB/s) with 1 file(s) remaining   \\rdownload: s3://nara-1950-census/1950census-descriptions/California/California-0072/California-0072_0033.jpg to NARA_downloads_1950/70-86/Description_Images/California-0072_0033.jpg\\n'\n",
      "['aws', 's3', 'cp', 's3://nara-1950-census/1950census-descriptions/California/California-0072/California-0072_0033.jpg', 'NARA_downloads_1950/70-87/Description_Images/California-0072_0033.jpg', '--no-sign-request']\n",
      "b'Completed 256.0 KiB/946.1 KiB (502.1 KiB/s) with 1 file(s) remaining\\rCompleted 512.0 KiB/946.1 KiB (862.8 KiB/s) with 1 file(s) remaining\\rCompleted 768.0 KiB/946.1 KiB (1.1 MiB/s) with 1 file(s) remaining  \\rCompleted 946.1 KiB/946.1 KiB (1.2 MiB/s) with 1 file(s) remaining  \\rdownload: s3://nara-1950-census/1950census-descriptions/California/California-0072/California-0072_0033.jpg to NARA_downloads_1950/70-87/Description_Images/California-0072_0033.jpg\\n'\n",
      "['aws', 's3', 'cp', 's3://nara-1950-census/1950census-descriptions/California/California-0072/California-0072_0034.jpg', 'NARA_downloads_1950/70-88/Description_Images/California-0072_0034.jpg', '--no-sign-request']\n",
      "b'Completed 256.0 KiB/903.9 KiB (371.9 KiB/s) with 1 file(s) remaining\\rCompleted 512.0 KiB/903.9 KiB (590.7 KiB/s) with 1 file(s) remaining\\rCompleted 768.0 KiB/903.9 KiB (606.5 KiB/s) with 1 file(s) remaining\\rCompleted 903.9 KiB/903.9 KiB (650.5 KiB/s) with 1 file(s) remaining\\rdownload: s3://nara-1950-census/1950census-descriptions/California/California-0072/California-0072_0034.jpg to NARA_downloads_1950/70-88/Description_Images/California-0072_0034.jpg\\n'\n",
      "['aws', 's3', 'cp', 's3://nara-1950-census/1950census-descriptions/California/California-0072/California-0072_0034.jpg', 'NARA_downloads_1950/70-89/Description_Images/California-0072_0034.jpg', '--no-sign-request']\n",
      "b'Completed 256.0 KiB/903.9 KiB (489.5 KiB/s) with 1 file(s) remaining\\rCompleted 512.0 KiB/903.9 KiB (648.3 KiB/s) with 1 file(s) remaining\\rCompleted 768.0 KiB/903.9 KiB (647.4 KiB/s) with 1 file(s) remaining\\rCompleted 903.9 KiB/903.9 KiB (607.0 KiB/s) with 1 file(s) remaining\\rdownload: s3://nara-1950-census/1950census-descriptions/California/California-0072/California-0072_0034.jpg to NARA_downloads_1950/70-89/Description_Images/California-0072_0034.jpg\\n'\n",
      "['aws', 's3', 'cp', 's3://nara-1950-census/1950census-descriptions/California/California-0072/California-0072_0035.jpg', 'NARA_downloads_1950/70-90/Description_Images/California-0072_0035.jpg', '--no-sign-request']\n",
      "b'Completed 256.0 KiB/945.3 KiB (613.2 KiB/s) with 1 file(s) remaining\\rCompleted 512.0 KiB/945.3 KiB (1.1 MiB/s) with 1 file(s) remaining  \\rCompleted 768.0 KiB/945.3 KiB (1.5 MiB/s) with 1 file(s) remaining  \\rCompleted 945.3 KiB/945.3 KiB (1.8 MiB/s) with 1 file(s) remaining  \\rdownload: s3://nara-1950-census/1950census-descriptions/California/California-0072/California-0072_0035.jpg to NARA_downloads_1950/70-90/Description_Images/California-0072_0035.jpg\\n'\n",
      "['aws', 's3', 'cp', 's3://nara-1950-census/1950census-descriptions/California/California-0072/California-0072_0035.jpg', 'NARA_downloads_1950/70-91/Description_Images/California-0072_0035.jpg', '--no-sign-request']\n",
      "b'Completed 256.0 KiB/945.3 KiB (572.5 KiB/s) with 1 file(s) remaining\\rCompleted 512.0 KiB/945.3 KiB (1.0 MiB/s) with 1 file(s) remaining  \\rCompleted 768.0 KiB/945.3 KiB (1.4 MiB/s) with 1 file(s) remaining  \\rCompleted 945.3 KiB/945.3 KiB (1.6 MiB/s) with 1 file(s) remaining  \\rdownload: s3://nara-1950-census/1950census-descriptions/California/California-0072/California-0072_0035.jpg to NARA_downloads_1950/70-91/Description_Images/California-0072_0035.jpg\\n'\n",
      "['aws', 's3', 'cp', 's3://nara-1950-census/1950census-descriptions/California/California-0072/California-0072_0035.jpg', 'NARA_downloads_1950/70-92/Description_Images/California-0072_0035.jpg', '--no-sign-request']\n",
      "b'Completed 256.0 KiB/945.3 KiB (649.0 KiB/s) with 1 file(s) remaining\\rCompleted 512.0 KiB/945.3 KiB (1.1 MiB/s) with 1 file(s) remaining  \\rCompleted 768.0 KiB/945.3 KiB (1.4 MiB/s) with 1 file(s) remaining  \\rCompleted 945.3 KiB/945.3 KiB (1.6 MiB/s) with 1 file(s) remaining  \\rdownload: s3://nara-1950-census/1950census-descriptions/California/California-0072/California-0072_0035.jpg to NARA_downloads_1950/70-92/Description_Images/California-0072_0035.jpg\\n'\n",
      "['aws', 's3', 'cp', 's3://nara-1950-census/1950census-descriptions/California/California-0072/California-0072_0036.jpg', 'NARA_downloads_1950/70-93/Description_Images/California-0072_0036.jpg', '--no-sign-request']\n",
      "b'Completed 256.0 KiB/952.1 KiB (418.8 KiB/s) with 1 file(s) remaining\\rCompleted 512.0 KiB/952.1 KiB (510.4 KiB/s) with 1 file(s) remaining\\rCompleted 768.0 KiB/952.1 KiB (571.7 KiB/s) with 1 file(s) remaining\\rCompleted 952.1 KiB/952.1 KiB (639.6 KiB/s) with 1 file(s) remaining\\rdownload: s3://nara-1950-census/1950census-descriptions/California/California-0072/California-0072_0036.jpg to NARA_downloads_1950/70-93/Description_Images/California-0072_0036.jpg\\n'\n",
      "['aws', 's3', 'cp', 's3://nara-1950-census/1950census-descriptions/California/California-0072/California-0072_0036.jpg', 'NARA_downloads_1950/70-94/Description_Images/California-0072_0036.jpg', '--no-sign-request']\n",
      "b'Completed 256.0 KiB/952.1 KiB (428.6 KiB/s) with 1 file(s) remaining\\rCompleted 512.0 KiB/952.1 KiB (653.8 KiB/s) with 1 file(s) remaining\\rCompleted 768.0 KiB/952.1 KiB (773.1 KiB/s) with 1 file(s) remaining\\rCompleted 952.1 KiB/952.1 KiB (770.9 KiB/s) with 1 file(s) remaining\\rdownload: s3://nara-1950-census/1950census-descriptions/California/California-0072/California-0072_0036.jpg to NARA_downloads_1950/70-94/Description_Images/California-0072_0036.jpg\\n'\n",
      "['aws', 's3', 'cp', 's3://nara-1950-census/1950census-descriptions/California/California-0072/California-0072_0036.jpg', 'NARA_downloads_1950/70-95/Description_Images/California-0072_0036.jpg', '--no-sign-request']\n",
      "b'Completed 256.0 KiB/952.1 KiB (476.7 KiB/s) with 1 file(s) remaining\\rCompleted 512.0 KiB/952.1 KiB (656.4 KiB/s) with 1 file(s) remaining\\rCompleted 768.0 KiB/952.1 KiB (746.9 KiB/s) with 1 file(s) remaining\\rCompleted 952.1 KiB/952.1 KiB (779.1 KiB/s) with 1 file(s) remaining\\rdownload: s3://nara-1950-census/1950census-descriptions/California/California-0072/California-0072_0036.jpg to NARA_downloads_1950/70-95/Description_Images/California-0072_0036.jpg\\n'\n",
      "['aws', 's3', 'cp', 's3://nara-1950-census/1950census-descriptions/California/California-0072/California-0072_0037.jpg', 'NARA_downloads_1950/70-96/Description_Images/California-0072_0037.jpg', '--no-sign-request']\n",
      "b'Completed 256.0 KiB/936.7 KiB (310.3 KiB/s) with 1 file(s) remaining\\rCompleted 512.0 KiB/936.7 KiB (563.3 KiB/s) with 1 file(s) remaining\\rCompleted 768.0 KiB/936.7 KiB (779.8 KiB/s) with 1 file(s) remaining\\rCompleted 936.7 KiB/936.7 KiB (914.4 KiB/s) with 1 file(s) remaining\\rdownload: s3://nara-1950-census/1950census-descriptions/California/California-0072/California-0072_0037.jpg to NARA_downloads_1950/70-96/Description_Images/California-0072_0037.jpg\\n'\n",
      "['aws', 's3', 'cp', 's3://nara-1950-census/1950census-descriptions/California/California-0072/California-0072_0037.jpg', 'NARA_downloads_1950/70-97/Description_Images/California-0072_0037.jpg', '--no-sign-request']\n",
      "b'Completed 256.0 KiB/936.7 KiB (342.6 KiB/s) with 1 file(s) remaining\\rCompleted 512.0 KiB/936.7 KiB (641.6 KiB/s) with 1 file(s) remaining\\rCompleted 768.0 KiB/936.7 KiB (885.3 KiB/s) with 1 file(s) remaining\\rCompleted 936.7 KiB/936.7 KiB (1013.7 KiB/s) with 1 file(s) remaining\\rdownload: s3://nara-1950-census/1950census-descriptions/California/California-0072/California-0072_0037.jpg to NARA_downloads_1950/70-97/Description_Images/California-0072_0037.jpg\\n'\n",
      "['aws', 's3', 'cp', 's3://nara-1950-census/1950census-descriptions/California/California-0072/California-0072_0037.jpg', 'NARA_downloads_1950/70-98/Description_Images/California-0072_0037.jpg', '--no-sign-request']\n",
      "b'Completed 256.0 KiB/936.7 KiB (612.3 KiB/s) with 1 file(s) remaining\\rCompleted 512.0 KiB/936.7 KiB (920.9 KiB/s) with 1 file(s) remaining\\rCompleted 768.0 KiB/936.7 KiB (1.3 MiB/s) with 1 file(s) remaining  \\rCompleted 936.7 KiB/936.7 KiB (1.4 MiB/s) with 1 file(s) remaining  \\rdownload: s3://nara-1950-census/1950census-descriptions/California/California-0072/California-0072_0037.jpg to NARA_downloads_1950/70-98/Description_Images/California-0072_0037.jpg\\n'\n",
      "['aws', 's3', 'cp', 's3://nara-1950-census/1950census-descriptions/California/California-0072/California-0072_0038.jpg', 'NARA_downloads_1950/70-99/Description_Images/California-0072_0038.jpg', '--no-sign-request']\n",
      "b'Completed 256.0 KiB/935.8 KiB (567.2 KiB/s) with 1 file(s) remaining\\rCompleted 512.0 KiB/935.8 KiB (1021.3 KiB/s) with 1 file(s) remaining\\rCompleted 768.0 KiB/935.8 KiB (1.3 MiB/s) with 1 file(s) remaining   \\rCompleted 935.8 KiB/935.8 KiB (1.5 MiB/s) with 1 file(s) remaining   \\rdownload: s3://nara-1950-census/1950census-descriptions/California/California-0072/California-0072_0038.jpg to NARA_downloads_1950/70-99/Description_Images/California-0072_0038.jpg\\n'\n",
      "['aws', 's3', 'cp', 's3://nara-1950-census/1950census-descriptions/California/California-0072/California-0072_0038.jpg', 'NARA_downloads_1950/70-100/Description_Images/California-0072_0038.jpg', '--no-sign-request']\n",
      "b'Completed 256.0 KiB/935.8 KiB (346.2 KiB/s) with 1 file(s) remaining\\rCompleted 512.0 KiB/935.8 KiB (599.0 KiB/s) with 1 file(s) remaining\\rCompleted 768.0 KiB/935.8 KiB (808.3 KiB/s) with 1 file(s) remaining\\rCompleted 935.8 KiB/935.8 KiB (895.4 KiB/s) with 1 file(s) remaining\\rdownload: s3://nara-1950-census/1950census-descriptions/California/California-0072/California-0072_0038.jpg to NARA_downloads_1950/70-100/Description_Images/California-0072_0038.jpg\\n'\n",
      "['aws', 's3', 'cp', 's3://nara-1950-census/1950census-descriptions/California/California-0072/California-0072_0038.jpg', 'NARA_downloads_1950/70-101/Description_Images/California-0072_0038.jpg', '--no-sign-request']\n",
      "b'Completed 256.0 KiB/935.8 KiB (432.4 KiB/s) with 1 file(s) remaining\\rCompleted 512.0 KiB/935.8 KiB (792.5 KiB/s) with 1 file(s) remaining\\rCompleted 768.0 KiB/935.8 KiB (1.0 MiB/s) with 1 file(s) remaining  \\rCompleted 935.8 KiB/935.8 KiB (1.2 MiB/s) with 1 file(s) remaining  \\rdownload: s3://nara-1950-census/1950census-descriptions/California/California-0072/California-0072_0038.jpg to NARA_downloads_1950/70-101/Description_Images/California-0072_0038.jpg\\n'\n",
      "['aws', 's3', 'cp', 's3://nara-1950-census/1950census-descriptions/California/California-0072/California-0072_0038.jpg', 'NARA_downloads_1950/70-102/Description_Images/California-0072_0038.jpg', '--no-sign-request']\n",
      "b'Completed 256.0 KiB/935.8 KiB (340.3 KiB/s) with 1 file(s) remaining\\rCompleted 512.0 KiB/935.8 KiB (592.4 KiB/s) with 1 file(s) remaining\\rCompleted 768.0 KiB/935.8 KiB (770.3 KiB/s) with 1 file(s) remaining\\rCompleted 935.8 KiB/935.8 KiB (926.7 KiB/s) with 1 file(s) remaining\\rdownload: s3://nara-1950-census/1950census-descriptions/California/California-0072/California-0072_0038.jpg to NARA_downloads_1950/70-102/Description_Images/California-0072_0038.jpg\\n'\n",
      "['aws', 's3', 'cp', 's3://nara-1950-census/1950census-descriptions/California/California-0072/California-0072_0039.jpg', 'NARA_downloads_1950/70-103/Description_Images/California-0072_0039.jpg', '--no-sign-request']\n",
      "b'Completed 256.0 KiB/951.8 KiB (329.1 KiB/s) with 1 file(s) remaining\\rCompleted 512.0 KiB/951.8 KiB (548.5 KiB/s) with 1 file(s) remaining\\rCompleted 768.0 KiB/951.8 KiB (705.5 KiB/s) with 1 file(s) remaining\\rCompleted 951.8 KiB/951.8 KiB (807.5 KiB/s) with 1 file(s) remaining\\rdownload: s3://nara-1950-census/1950census-descriptions/California/California-0072/California-0072_0039.jpg to NARA_downloads_1950/70-103/Description_Images/California-0072_0039.jpg\\n'\n",
      "['aws', 's3', 'cp', 's3://nara-1950-census/1950census-descriptions/California/California-0072/California-0072_0039.jpg', 'NARA_downloads_1950/70-104/Description_Images/California-0072_0039.jpg', '--no-sign-request']\n",
      "b'Completed 256.0 KiB/951.8 KiB (353.0 KiB/s) with 1 file(s) remaining\\rCompleted 512.0 KiB/951.8 KiB (670.7 KiB/s) with 1 file(s) remaining\\rCompleted 768.0 KiB/951.8 KiB (938.1 KiB/s) with 1 file(s) remaining\\rCompleted 951.8 KiB/951.8 KiB (1.1 MiB/s) with 1 file(s) remaining  \\rdownload: s3://nara-1950-census/1950census-descriptions/California/California-0072/California-0072_0039.jpg to NARA_downloads_1950/70-104/Description_Images/California-0072_0039.jpg\\n'\n",
      "['aws', 's3', 'cp', 's3://nara-1950-census/1950census-descriptions/California/California-0072/California-0072_0040.jpg', 'NARA_downloads_1950/70-105/Description_Images/California-0072_0040.jpg', '--no-sign-request']\n",
      "b'Completed 256.0 KiB/926.7 KiB (594.2 KiB/s) with 1 file(s) remaining\\rCompleted 512.0 KiB/926.7 KiB (1.1 MiB/s) with 1 file(s) remaining  \\rCompleted 768.0 KiB/926.7 KiB (1.4 MiB/s) with 1 file(s) remaining  \\rCompleted 926.7 KiB/926.7 KiB (1.6 MiB/s) with 1 file(s) remaining  \\rdownload: s3://nara-1950-census/1950census-descriptions/California/California-0072/California-0072_0040.jpg to NARA_downloads_1950/70-105/Description_Images/California-0072_0040.jpg\\n'\n",
      "['aws', 's3', 'cp', 's3://nara-1950-census/1950census-descriptions/California/California-0072/California-0072_0040.jpg', 'NARA_downloads_1950/70-106/Description_Images/California-0072_0040.jpg', '--no-sign-request']\n",
      "b'Completed 256.0 KiB/926.7 KiB (529.5 KiB/s) with 1 file(s) remaining\\rCompleted 512.0 KiB/926.7 KiB (981.8 KiB/s) with 1 file(s) remaining\\rCompleted 768.0 KiB/926.7 KiB (1.3 MiB/s) with 1 file(s) remaining  \\rCompleted 926.7 KiB/926.7 KiB (1.5 MiB/s) with 1 file(s) remaining  \\rdownload: s3://nara-1950-census/1950census-descriptions/California/California-0072/California-0072_0040.jpg to NARA_downloads_1950/70-106/Description_Images/California-0072_0040.jpg\\n'\n",
      "['aws', 's3', 'cp', 's3://nara-1950-census/1950census-descriptions/California/California-0072/California-0072_0040.jpg', 'NARA_downloads_1950/70-107/Description_Images/California-0072_0040.jpg', '--no-sign-request']\n",
      "b'Completed 256.0 KiB/926.7 KiB (646.4 KiB/s) with 1 file(s) remaining\\rCompleted 512.0 KiB/926.7 KiB (1.0 MiB/s) with 1 file(s) remaining  \\rCompleted 768.0 KiB/926.7 KiB (1.4 MiB/s) with 1 file(s) remaining  \\rCompleted 926.7 KiB/926.7 KiB (1.7 MiB/s) with 1 file(s) remaining  \\rdownload: s3://nara-1950-census/1950census-descriptions/California/California-0072/California-0072_0040.jpg to NARA_downloads_1950/70-107/Description_Images/California-0072_0040.jpg\\n'\n",
      "['aws', 's3', 'cp', 's3://nara-1950-census/1950census-descriptions/California/California-0072/California-0072_0041.jpg', 'NARA_downloads_1950/70-108/Description_Images/California-0072_0041.jpg', '--no-sign-request']\n",
      "b'Completed 256.0 KiB/955.8 KiB (296.6 KiB/s) with 1 file(s) remaining\\rCompleted 512.0 KiB/955.8 KiB (525.9 KiB/s) with 1 file(s) remaining\\rCompleted 768.0 KiB/955.8 KiB (726.1 KiB/s) with 1 file(s) remaining\\rCompleted 955.8 KiB/955.8 KiB (762.5 KiB/s) with 1 file(s) remaining\\rdownload: s3://nara-1950-census/1950census-descriptions/California/California-0072/California-0072_0041.jpg to NARA_downloads_1950/70-108/Description_Images/California-0072_0041.jpg\\n'\n",
      "['aws', 's3', 'cp', 's3://nara-1950-census/1950census-descriptions/California/California-0072/California-0072_0041.jpg', 'NARA_downloads_1950/70-109/Description_Images/California-0072_0041.jpg', '--no-sign-request']\n",
      "b'Completed 256.0 KiB/955.8 KiB (587.1 KiB/s) with 1 file(s) remaining\\rCompleted 512.0 KiB/955.8 KiB (908.7 KiB/s) with 1 file(s) remaining\\rCompleted 768.0 KiB/955.8 KiB (1.1 MiB/s) with 1 file(s) remaining  \\rCompleted 955.8 KiB/955.8 KiB (1.3 MiB/s) with 1 file(s) remaining  \\rdownload: s3://nara-1950-census/1950census-descriptions/California/California-0072/California-0072_0041.jpg to NARA_downloads_1950/70-109/Description_Images/California-0072_0041.jpg\\n'\n",
      "['aws', 's3', 'cp', 's3://nara-1950-census/1950census-descriptions/California/California-0072/California-0072_0041.jpg', 'NARA_downloads_1950/70-110/Description_Images/California-0072_0041.jpg', '--no-sign-request']\n",
      "b'Completed 256.0 KiB/955.8 KiB (618.8 KiB/s) with 1 file(s) remaining\\rCompleted 512.0 KiB/955.8 KiB (1.1 MiB/s) with 1 file(s) remaining  \\rCompleted 768.0 KiB/955.8 KiB (1.4 MiB/s) with 1 file(s) remaining  \\rCompleted 955.8 KiB/955.8 KiB (1.7 MiB/s) with 1 file(s) remaining  \\rdownload: s3://nara-1950-census/1950census-descriptions/California/California-0072/California-0072_0041.jpg to NARA_downloads_1950/70-110/Description_Images/California-0072_0041.jpg\\n'\n",
      "['aws', 's3', 'cp', 's3://nara-1950-census/1950census-descriptions/California/California-0072/California-0072_0042.jpg', 'NARA_downloads_1950/70-111/Description_Images/California-0072_0042.jpg', '--no-sign-request']\n",
      "b'Completed 256.0 KiB/946.5 KiB (432.6 KiB/s) with 1 file(s) remaining\\rCompleted 512.0 KiB/946.5 KiB (755.5 KiB/s) with 1 file(s) remaining\\rCompleted 768.0 KiB/946.5 KiB (1019.6 KiB/s) with 1 file(s) remaining\\rCompleted 946.5 KiB/946.5 KiB (1.2 MiB/s) with 1 file(s) remaining   \\rdownload: s3://nara-1950-census/1950census-descriptions/California/California-0072/California-0072_0042.jpg to NARA_downloads_1950/70-111/Description_Images/California-0072_0042.jpg\\n'\n",
      "['aws', 's3', 'cp', 's3://nara-1950-census/1950census-descriptions/California/California-0072/California-0072_0042.jpg', 'NARA_downloads_1950/70-112/Description_Images/California-0072_0042.jpg', '--no-sign-request']\n",
      "b'Completed 256.0 KiB/946.5 KiB (574.0 KiB/s) with 1 file(s) remaining\\rCompleted 512.0 KiB/946.5 KiB (924.4 KiB/s) with 1 file(s) remaining\\rCompleted 768.0 KiB/946.5 KiB (1.2 MiB/s) with 1 file(s) remaining  \\rCompleted 946.5 KiB/946.5 KiB (1.5 MiB/s) with 1 file(s) remaining  \\rdownload: s3://nara-1950-census/1950census-descriptions/California/California-0072/California-0072_0042.jpg to NARA_downloads_1950/70-112/Description_Images/California-0072_0042.jpg\\n'\n",
      "['aws', 's3', 'cp', 's3://nara-1950-census/1950census-descriptions/California/California-0072/California-0072_0043.jpg', 'NARA_downloads_1950/70-113/Description_Images/California-0072_0043.jpg', '--no-sign-request']\n",
      "b'Completed 256.0 KiB/965.1 KiB (357.1 KiB/s) with 1 file(s) remaining\\rCompleted 512.0 KiB/965.1 KiB (664.7 KiB/s) with 1 file(s) remaining\\rCompleted 768.0 KiB/965.1 KiB (938.9 KiB/s) with 1 file(s) remaining\\rCompleted 965.1 KiB/965.1 KiB (1.1 MiB/s) with 1 file(s) remaining  \\rdownload: s3://nara-1950-census/1950census-descriptions/California/California-0072/California-0072_0043.jpg to NARA_downloads_1950/70-113/Description_Images/California-0072_0043.jpg\\n'\n",
      "['aws', 's3', 'cp', 's3://nara-1950-census/1950census-descriptions/California/California-0072/California-0072_0043.jpg', 'NARA_downloads_1950/70-114/Description_Images/California-0072_0043.jpg', '--no-sign-request']\n",
      "b'Completed 256.0 KiB/965.1 KiB (331.9 KiB/s) with 1 file(s) remaining\\rCompleted 512.0 KiB/965.1 KiB (469.9 KiB/s) with 1 file(s) remaining\\rCompleted 768.0 KiB/965.1 KiB (549.2 KiB/s) with 1 file(s) remaining\\rCompleted 965.1 KiB/965.1 KiB (625.7 KiB/s) with 1 file(s) remaining\\rdownload: s3://nara-1950-census/1950census-descriptions/California/California-0072/California-0072_0043.jpg to NARA_downloads_1950/70-114/Description_Images/California-0072_0043.jpg\\n'\n",
      "['aws', 's3', 'cp', 's3://nara-1950-census/1950census-descriptions/California/California-0072/California-0072_0043.jpg', 'NARA_downloads_1950/70-115/Description_Images/California-0072_0043.jpg', '--no-sign-request']\n",
      "b'Completed 256.0 KiB/965.1 KiB (226.6 KiB/s) with 1 file(s) remaining\\rCompleted 512.0 KiB/965.1 KiB (327.3 KiB/s) with 1 file(s) remaining\\rCompleted 768.0 KiB/965.1 KiB (348.7 KiB/s) with 1 file(s) remaining\\rCompleted 965.1 KiB/965.1 KiB (388.7 KiB/s) with 1 file(s) remaining\\rdownload: s3://nara-1950-census/1950census-descriptions/California/California-0072/California-0072_0043.jpg to NARA_downloads_1950/70-115/Description_Images/California-0072_0043.jpg\\n'\n",
      "['aws', 's3', 'cp', 's3://nara-1950-census/1950census-descriptions/California/California-0072/California-0072_0044.jpg', 'NARA_downloads_1950/70-116/Description_Images/California-0072_0044.jpg', '--no-sign-request']\n",
      "b'Completed 256.0 KiB/924.1 KiB (218.1 KiB/s) with 1 file(s) remaining\\rCompleted 512.0 KiB/924.1 KiB (372.7 KiB/s) with 1 file(s) remaining\\rCompleted 768.0 KiB/924.1 KiB (417.8 KiB/s) with 1 file(s) remaining\\rCompleted 924.1 KiB/924.1 KiB (470.4 KiB/s) with 1 file(s) remaining\\rdownload: s3://nara-1950-census/1950census-descriptions/California/California-0072/California-0072_0044.jpg to NARA_downloads_1950/70-116/Description_Images/California-0072_0044.jpg\\n'\n",
      "['aws', 's3', 'cp', 's3://nara-1950-census/1950census-descriptions/California/California-0072/California-0072_0044.jpg', 'NARA_downloads_1950/70-117/Description_Images/California-0072_0044.jpg', '--no-sign-request']\n",
      "b'Completed 256.0 KiB/924.1 KiB (396.7 KiB/s) with 1 file(s) remaining\\rCompleted 512.0 KiB/924.1 KiB (763.6 KiB/s) with 1 file(s) remaining\\rCompleted 768.0 KiB/924.1 KiB (1.0 MiB/s) with 1 file(s) remaining  \\rCompleted 924.1 KiB/924.1 KiB (1.2 MiB/s) with 1 file(s) remaining  \\rdownload: s3://nara-1950-census/1950census-descriptions/California/California-0072/California-0072_0044.jpg to NARA_downloads_1950/70-117/Description_Images/California-0072_0044.jpg\\n'\n",
      "['aws', 's3', 'cp', 's3://nara-1950-census/1950census-descriptions/California/California-0072/California-0072_0045.jpg', 'NARA_downloads_1950/70-118/Description_Images/California-0072_0045.jpg', '--no-sign-request']\n",
      "b'Completed 256.0 KiB/989.2 KiB (525.3 KiB/s) with 1 file(s) remaining\\rCompleted 512.0 KiB/989.2 KiB (865.3 KiB/s) with 1 file(s) remaining\\rCompleted 768.0 KiB/989.2 KiB (1.1 MiB/s) with 1 file(s) remaining  \\rCompleted 989.2 KiB/989.2 KiB (1.3 MiB/s) with 1 file(s) remaining  \\rdownload: s3://nara-1950-census/1950census-descriptions/California/California-0072/California-0072_0045.jpg to NARA_downloads_1950/70-118/Description_Images/California-0072_0045.jpg\\n'\n",
      "['aws', 's3', 'cp', 's3://nara-1950-census/1950census-descriptions/California/California-0072/California-0072_0045.jpg', 'NARA_downloads_1950/70-119/Description_Images/California-0072_0045.jpg', '--no-sign-request']\n",
      "b'Completed 256.0 KiB/989.2 KiB (575.3 KiB/s) with 1 file(s) remaining\\rCompleted 512.0 KiB/989.2 KiB (956.4 KiB/s) with 1 file(s) remaining\\rCompleted 768.0 KiB/989.2 KiB (1.2 MiB/s) with 1 file(s) remaining  \\rCompleted 989.2 KiB/989.2 KiB (1.3 MiB/s) with 1 file(s) remaining  \\rdownload: s3://nara-1950-census/1950census-descriptions/California/California-0072/California-0072_0045.jpg to NARA_downloads_1950/70-119/Description_Images/California-0072_0045.jpg\\n'\n",
      "['aws', 's3', 'cp', 's3://nara-1950-census/1950census-descriptions/California/California-0072/California-0072_0045.jpg', 'NARA_downloads_1950/70-120/Description_Images/California-0072_0045.jpg', '--no-sign-request']\n",
      "b'Completed 256.0 KiB/989.2 KiB (332.5 KiB/s) with 1 file(s) remaining\\rCompleted 512.0 KiB/989.2 KiB (607.9 KiB/s) with 1 file(s) remaining\\rCompleted 768.0 KiB/989.2 KiB (857.0 KiB/s) with 1 file(s) remaining\\rCompleted 989.2 KiB/989.2 KiB (1.0 MiB/s) with 1 file(s) remaining  \\rdownload: s3://nara-1950-census/1950census-descriptions/California/California-0072/California-0072_0045.jpg to NARA_downloads_1950/70-120/Description_Images/California-0072_0045.jpg\\n'\n",
      "['aws', 's3', 'cp', 's3://nara-1950-census/1950census-descriptions/California/California-0072/California-0072_0046.jpg', 'NARA_downloads_1950/70-121/Description_Images/California-0072_0046.jpg', '--no-sign-request']\n",
      "b'Completed 256.0 KiB/931.3 KiB (288.9 KiB/s) with 1 file(s) remaining\\rCompleted 512.0 KiB/931.3 KiB (520.8 KiB/s) with 1 file(s) remaining\\rCompleted 768.0 KiB/931.3 KiB (697.7 KiB/s) with 1 file(s) remaining\\rCompleted 931.3 KiB/931.3 KiB (777.8 KiB/s) with 1 file(s) remaining\\rdownload: s3://nara-1950-census/1950census-descriptions/California/California-0072/California-0072_0046.jpg to NARA_downloads_1950/70-121/Description_Images/California-0072_0046.jpg\\n'\n",
      "['aws', 's3', 'cp', 's3://nara-1950-census/1950census-descriptions/California/California-0072/California-0072_0046.jpg', 'NARA_downloads_1950/70-122/Description_Images/California-0072_0046.jpg', '--no-sign-request']\n",
      "b'Completed 256.0 KiB/931.3 KiB (489.0 KiB/s) with 1 file(s) remaining\\rCompleted 512.0 KiB/931.3 KiB (804.4 KiB/s) with 1 file(s) remaining\\rCompleted 768.0 KiB/931.3 KiB (1.0 MiB/s) with 1 file(s) remaining  \\rCompleted 931.3 KiB/931.3 KiB (1.2 MiB/s) with 1 file(s) remaining  \\rdownload: s3://nara-1950-census/1950census-descriptions/California/California-0072/California-0072_0046.jpg to NARA_downloads_1950/70-122/Description_Images/California-0072_0046.jpg\\n'\n",
      "['aws', 's3', 'cp', 's3://nara-1950-census/1950census-descriptions/California/California-0072/California-0072_0047.jpg', 'NARA_downloads_1950/70-123/Description_Images/California-0072_0047.jpg', '--no-sign-request']\n",
      "b'Completed 256.0 KiB/964.4 KiB (385.2 KiB/s) with 1 file(s) remaining\\rCompleted 512.0 KiB/964.4 KiB (639.3 KiB/s) with 1 file(s) remaining\\rCompleted 768.0 KiB/964.4 KiB (924.4 KiB/s) with 1 file(s) remaining\\rCompleted 964.4 KiB/964.4 KiB (1.0 MiB/s) with 1 file(s) remaining  \\rdownload: s3://nara-1950-census/1950census-descriptions/California/California-0072/California-0072_0047.jpg to NARA_downloads_1950/70-123/Description_Images/California-0072_0047.jpg\\n'\n",
      "['aws', 's3', 'cp', 's3://nara-1950-census/1950census-descriptions/California/California-0072/California-0072_0047.jpg', 'NARA_downloads_1950/70-124/Description_Images/California-0072_0047.jpg', '--no-sign-request']\n",
      "b'Completed 256.0 KiB/964.4 KiB (353.4 KiB/s) with 1 file(s) remaining\\rCompleted 512.0 KiB/964.4 KiB (640.6 KiB/s) with 1 file(s) remaining\\rCompleted 768.0 KiB/964.4 KiB (848.9 KiB/s) with 1 file(s) remaining\\rCompleted 964.4 KiB/964.4 KiB (965.1 KiB/s) with 1 file(s) remaining\\rdownload: s3://nara-1950-census/1950census-descriptions/California/California-0072/California-0072_0047.jpg to NARA_downloads_1950/70-124/Description_Images/California-0072_0047.jpg\\n'\n",
      "['aws', 's3', 'cp', 's3://nara-1950-census/1950census-descriptions/California/California-0072/California-0072_0047.jpg', 'NARA_downloads_1950/70-125/Description_Images/California-0072_0047.jpg', '--no-sign-request']\n",
      "b'Completed 256.0 KiB/964.4 KiB (252.0 KiB/s) with 1 file(s) remaining\\rCompleted 512.0 KiB/964.4 KiB (446.5 KiB/s) with 1 file(s) remaining\\rCompleted 768.0 KiB/964.4 KiB (628.9 KiB/s) with 1 file(s) remaining\\rCompleted 964.4 KiB/964.4 KiB (752.0 KiB/s) with 1 file(s) remaining\\rdownload: s3://nara-1950-census/1950census-descriptions/California/California-0072/California-0072_0047.jpg to NARA_downloads_1950/70-125/Description_Images/California-0072_0047.jpg\\n'\n",
      "['aws', 's3', 'cp', 's3://nara-1950-census/1950census-descriptions/California/California-0072/California-0072_0048.jpg', 'NARA_downloads_1950/70-126/Description_Images/California-0072_0048.jpg', '--no-sign-request']\n",
      "b'Completed 256.0 KiB/975.2 KiB (345.1 KiB/s) with 1 file(s) remaining\\rCompleted 512.0 KiB/975.2 KiB (483.6 KiB/s) with 1 file(s) remaining\\rCompleted 768.0 KiB/975.2 KiB (505.9 KiB/s) with 1 file(s) remaining\\rCompleted 975.2 KiB/975.2 KiB (521.9 KiB/s) with 1 file(s) remaining\\rdownload: s3://nara-1950-census/1950census-descriptions/California/California-0072/California-0072_0048.jpg to NARA_downloads_1950/70-126/Description_Images/California-0072_0048.jpg\\n'\n",
      "['aws', 's3', 'cp', 's3://nara-1950-census/1950census-descriptions/California/California-0072/California-0072_0048.jpg', 'NARA_downloads_1950/70-127/Description_Images/California-0072_0048.jpg', '--no-sign-request']\n",
      "b'Completed 256.0 KiB/975.2 KiB (264.4 KiB/s) with 1 file(s) remaining\\rCompleted 512.0 KiB/975.2 KiB (341.9 KiB/s) with 1 file(s) remaining\\rCompleted 768.0 KiB/975.2 KiB (399.1 KiB/s) with 1 file(s) remaining\\rCompleted 975.2 KiB/975.2 KiB (444.3 KiB/s) with 1 file(s) remaining\\rdownload: s3://nara-1950-census/1950census-descriptions/California/California-0072/California-0072_0048.jpg to NARA_downloads_1950/70-127/Description_Images/California-0072_0048.jpg\\n'\n",
      "['aws', 's3', 'cp', 's3://nara-1950-census/1950census-descriptions/California/California-0072/California-0072_0048.jpg', 'NARA_downloads_1950/70-128/Description_Images/California-0072_0048.jpg', '--no-sign-request']\n",
      "b'Completed 256.0 KiB/975.2 KiB (40.5 KiB/s) with 1 file(s) remaining\\rCompleted 512.0 KiB/975.2 KiB (79.9 KiB/s) with 1 file(s) remaining\\rCompleted 768.0 KiB/975.2 KiB (118.9 KiB/s) with 1 file(s) remaining\\rCompleted 975.2 KiB/975.2 KiB (150.6 KiB/s) with 1 file(s) remaining\\rdownload: s3://nara-1950-census/1950census-descriptions/California/California-0072/California-0072_0048.jpg to NARA_downloads_1950/70-128/Description_Images/California-0072_0048.jpg\\n'\n",
      "['aws', 's3', 'cp', 's3://nara-1950-census/1950census-descriptions/California/California-0072/California-0072_0049.jpg', 'NARA_downloads_1950/70-129/Description_Images/California-0072_0049.jpg', '--no-sign-request']\n",
      "b'Completed 256.0 KiB/963.9 KiB (230.6 KiB/s) with 1 file(s) remaining\\rCompleted 512.0 KiB/963.9 KiB (383.3 KiB/s) with 1 file(s) remaining\\rCompleted 768.0 KiB/963.9 KiB (484.0 KiB/s) with 1 file(s) remaining\\rCompleted 963.9 KiB/963.9 KiB (539.2 KiB/s) with 1 file(s) remaining\\rdownload: s3://nara-1950-census/1950census-descriptions/California/California-0072/California-0072_0049.jpg to NARA_downloads_1950/70-129/Description_Images/California-0072_0049.jpg\\n'\n",
      "['aws', 's3', 'cp', 's3://nara-1950-census/1950census-descriptions/California/California-0072/California-0072_0049.jpg', 'NARA_downloads_1950/70-130/Description_Images/California-0072_0049.jpg', '--no-sign-request']\n",
      "b'Completed 256.0 KiB/963.9 KiB (587.3 KiB/s) with 1 file(s) remaining\\rCompleted 512.0 KiB/963.9 KiB (734.8 KiB/s) with 1 file(s) remaining\\rCompleted 768.0 KiB/963.9 KiB (860.2 KiB/s) with 1 file(s) remaining\\rCompleted 963.9 KiB/963.9 KiB (1.0 MiB/s) with 1 file(s) remaining  \\rdownload: s3://nara-1950-census/1950census-descriptions/California/California-0072/California-0072_0049.jpg to NARA_downloads_1950/70-130/Description_Images/California-0072_0049.jpg\\n'\n",
      "['aws', 's3', 'cp', 's3://nara-1950-census/1950census-descriptions/California/California-0072/California-0072_0049.jpg', 'NARA_downloads_1950/70-131/Description_Images/California-0072_0049.jpg', '--no-sign-request']\n",
      "b'Completed 256.0 KiB/963.9 KiB (178.7 KiB/s) with 1 file(s) remaining\\rCompleted 512.0 KiB/963.9 KiB (336.0 KiB/s) with 1 file(s) remaining\\rCompleted 768.0 KiB/963.9 KiB (459.4 KiB/s) with 1 file(s) remaining\\rCompleted 963.9 KiB/963.9 KiB (537.2 KiB/s) with 1 file(s) remaining\\rdownload: s3://nara-1950-census/1950census-descriptions/California/California-0072/California-0072_0049.jpg to NARA_downloads_1950/70-131/Description_Images/California-0072_0049.jpg\\n'\n",
      "['aws', 's3', 'cp', 's3://nara-1950-census/1950census-descriptions/California/California-0072/California-0072_0050.jpg', 'NARA_downloads_1950/70-132/Description_Images/California-0072_0050.jpg', '--no-sign-request']\n",
      "b'Completed 256.0 KiB/959.2 KiB (164.5 KiB/s) with 1 file(s) remaining\\rCompleted 512.0 KiB/959.2 KiB (288.3 KiB/s) with 1 file(s) remaining\\rCompleted 768.0 KiB/959.2 KiB (391.0 KiB/s) with 1 file(s) remaining\\rCompleted 959.2 KiB/959.2 KiB (454.9 KiB/s) with 1 file(s) remaining\\rdownload: s3://nara-1950-census/1950census-descriptions/California/California-0072/California-0072_0050.jpg to NARA_downloads_1950/70-132/Description_Images/California-0072_0050.jpg\\n'\n",
      "['aws', 's3', 'cp', 's3://nara-1950-census/1950census-descriptions/California/California-0072/California-0072_0050.jpg', 'NARA_downloads_1950/70-133/Description_Images/California-0072_0050.jpg', '--no-sign-request']\n",
      "b'Completed 256.0 KiB/959.2 KiB (504.5 KiB/s) with 1 file(s) remaining\\rCompleted 512.0 KiB/959.2 KiB (727.0 KiB/s) with 1 file(s) remaining\\rCompleted 768.0 KiB/959.2 KiB (854.1 KiB/s) with 1 file(s) remaining\\rCompleted 959.2 KiB/959.2 KiB (937.9 KiB/s) with 1 file(s) remaining\\rdownload: s3://nara-1950-census/1950census-descriptions/California/California-0072/California-0072_0050.jpg to NARA_downloads_1950/70-133/Description_Images/California-0072_0050.jpg\\n'\n",
      "['aws', 's3', 'cp', 's3://nara-1950-census/1950census-descriptions/California/California-0072/California-0072_0050.jpg', 'NARA_downloads_1950/70-134/Description_Images/California-0072_0050.jpg', '--no-sign-request']\n",
      "b'Completed 256.0 KiB/959.2 KiB (420.6 KiB/s) with 1 file(s) remaining\\rCompleted 512.0 KiB/959.2 KiB (760.7 KiB/s) with 1 file(s) remaining\\rCompleted 768.0 KiB/959.2 KiB (1012.9 KiB/s) with 1 file(s) remaining\\rCompleted 959.2 KiB/959.2 KiB (1.1 MiB/s) with 1 file(s) remaining   \\rdownload: s3://nara-1950-census/1950census-descriptions/California/California-0072/California-0072_0050.jpg to NARA_downloads_1950/70-134/Description_Images/California-0072_0050.jpg\\n'\n",
      "['aws', 's3', 'cp', 's3://nara-1950-census/1950census-descriptions/California/California-0072/California-0072_0051.jpg', 'NARA_downloads_1950/70-135/Description_Images/California-0072_0051.jpg', '--no-sign-request']\n",
      "b'Completed 256.0 KiB/946.5 KiB (407.0 KiB/s) with 1 file(s) remaining\\rCompleted 512.0 KiB/946.5 KiB (700.2 KiB/s) with 1 file(s) remaining\\rCompleted 768.0 KiB/946.5 KiB (906.4 KiB/s) with 1 file(s) remaining\\rCompleted 946.5 KiB/946.5 KiB (1.0 MiB/s) with 1 file(s) remaining  \\rdownload: s3://nara-1950-census/1950census-descriptions/California/California-0072/California-0072_0051.jpg to NARA_downloads_1950/70-135/Description_Images/California-0072_0051.jpg\\n'\n",
      "['aws', 's3', 'cp', 's3://nara-1950-census/1950census-descriptions/California/California-0072/California-0072_0051.jpg', 'NARA_downloads_1950/70-136/Description_Images/California-0072_0051.jpg', '--no-sign-request']\n"
     ]
    },
    {
     "ename": "KeyboardInterrupt",
     "evalue": "",
     "output_type": "error",
     "traceback": [
      "\u001b[0;31m---------------------------------------------------------------------------\u001b[0m",
      "\u001b[0;31mKeyboardInterrupt\u001b[0m                         Traceback (most recent call last)",
      "\u001b[1;32m/home/jansen/Projects/CASES/census-form-image-processing/1_Download_Census_Images.ipynb Cell 23\u001b[0m line \u001b[0;36m1\n\u001b[0;32m----> <a href='vscode-notebook-cell:/home/jansen/Projects/CASES/census-form-image-processing/1_Download_Census_Images.ipynb#X31sZmlsZQ%3D%3D?line=0'>1</a>\u001b[0m get_desc_imgs(\u001b[39m44\u001b[39;49m, \u001b[39m'\u001b[39;49m\u001b[39mca.json\u001b[39;49m\u001b[39m'\u001b[39;49m, \u001b[39m'\u001b[39;49m\u001b[39mCalifornia\u001b[39;49m\u001b[39m'\u001b[39;49m) \u001b[39m# This will take a few seconds\u001b[39;00m\n",
      "\u001b[1;32m/home/jansen/Projects/CASES/census-form-image-processing/1_Download_Census_Images.ipynb Cell 23\u001b[0m line \u001b[0;36m3\n\u001b[1;32m     <a href='vscode-notebook-cell:/home/jansen/Projects/CASES/census-form-image-processing/1_Download_Census_Images.ipynb#X31sZmlsZQ%3D%3D?line=29'>30</a>\u001b[0m \u001b[39mfrom\u001b[39;00m \u001b[39msubprocess\u001b[39;00m \u001b[39mimport\u001b[39;00m Popen, PIPE\n\u001b[1;32m     <a href='vscode-notebook-cell:/home/jansen/Projects/CASES/census-form-image-processing/1_Download_Census_Images.ipynb#X31sZmlsZQ%3D%3D?line=30'>31</a>\u001b[0m process \u001b[39m=\u001b[39m Popen(command, stdout\u001b[39m=\u001b[39mPIPE, stderr\u001b[39m=\u001b[39mPIPE)\n\u001b[0;32m---> <a href='vscode-notebook-cell:/home/jansen/Projects/CASES/census-form-image-processing/1_Download_Census_Images.ipynb#X31sZmlsZQ%3D%3D?line=31'>32</a>\u001b[0m stdout, stderr \u001b[39m=\u001b[39m process\u001b[39m.\u001b[39;49mcommunicate()\n\u001b[1;32m     <a href='vscode-notebook-cell:/home/jansen/Projects/CASES/census-form-image-processing/1_Download_Census_Images.ipynb#X31sZmlsZQ%3D%3D?line=32'>33</a>\u001b[0m \u001b[39mprint\u001b[39m(stdout)\n",
      "File \u001b[0;32m/usr/lib/python3.10/subprocess.py:1154\u001b[0m, in \u001b[0;36mPopen.communicate\u001b[0;34m(self, input, timeout)\u001b[0m\n\u001b[1;32m   1151\u001b[0m     endtime \u001b[39m=\u001b[39m \u001b[39mNone\u001b[39;00m\n\u001b[1;32m   1153\u001b[0m \u001b[39mtry\u001b[39;00m:\n\u001b[0;32m-> 1154\u001b[0m     stdout, stderr \u001b[39m=\u001b[39m \u001b[39mself\u001b[39;49m\u001b[39m.\u001b[39;49m_communicate(\u001b[39minput\u001b[39;49m, endtime, timeout)\n\u001b[1;32m   1155\u001b[0m \u001b[39mexcept\u001b[39;00m \u001b[39mKeyboardInterrupt\u001b[39;00m:\n\u001b[1;32m   1156\u001b[0m     \u001b[39m# https://bugs.python.org/issue25942\u001b[39;00m\n\u001b[1;32m   1157\u001b[0m     \u001b[39m# See the detailed comment in .wait().\u001b[39;00m\n\u001b[1;32m   1158\u001b[0m     \u001b[39mif\u001b[39;00m timeout \u001b[39mis\u001b[39;00m \u001b[39mnot\u001b[39;00m \u001b[39mNone\u001b[39;00m:\n",
      "File \u001b[0;32m/usr/lib/python3.10/subprocess.py:2021\u001b[0m, in \u001b[0;36mPopen._communicate\u001b[0;34m(self, input, endtime, orig_timeout)\u001b[0m\n\u001b[1;32m   2014\u001b[0m     \u001b[39mself\u001b[39m\u001b[39m.\u001b[39m_check_timeout(endtime, orig_timeout,\n\u001b[1;32m   2015\u001b[0m                         stdout, stderr,\n\u001b[1;32m   2016\u001b[0m                         skip_check_and_raise\u001b[39m=\u001b[39m\u001b[39mTrue\u001b[39;00m)\n\u001b[1;32m   2017\u001b[0m     \u001b[39mraise\u001b[39;00m \u001b[39mRuntimeError\u001b[39;00m(  \u001b[39m# Impossible :)\u001b[39;00m\n\u001b[1;32m   2018\u001b[0m         \u001b[39m'\u001b[39m\u001b[39m_check_timeout(..., skip_check_and_raise=True) \u001b[39m\u001b[39m'\u001b[39m\n\u001b[1;32m   2019\u001b[0m         \u001b[39m'\u001b[39m\u001b[39mfailed to raise TimeoutExpired.\u001b[39m\u001b[39m'\u001b[39m)\n\u001b[0;32m-> 2021\u001b[0m ready \u001b[39m=\u001b[39m selector\u001b[39m.\u001b[39;49mselect(timeout)\n\u001b[1;32m   2022\u001b[0m \u001b[39mself\u001b[39m\u001b[39m.\u001b[39m_check_timeout(endtime, orig_timeout, stdout, stderr)\n\u001b[1;32m   2024\u001b[0m \u001b[39m# XXX Rewrite these to use non-blocking I/O on the file\u001b[39;00m\n\u001b[1;32m   2025\u001b[0m \u001b[39m# objects; they are no longer using C stdio!\u001b[39;00m\n",
      "File \u001b[0;32m/usr/lib/python3.10/selectors.py:416\u001b[0m, in \u001b[0;36m_PollLikeSelector.select\u001b[0;34m(self, timeout)\u001b[0m\n\u001b[1;32m    414\u001b[0m ready \u001b[39m=\u001b[39m []\n\u001b[1;32m    415\u001b[0m \u001b[39mtry\u001b[39;00m:\n\u001b[0;32m--> 416\u001b[0m     fd_event_list \u001b[39m=\u001b[39m \u001b[39mself\u001b[39;49m\u001b[39m.\u001b[39;49m_selector\u001b[39m.\u001b[39;49mpoll(timeout)\n\u001b[1;32m    417\u001b[0m \u001b[39mexcept\u001b[39;00m \u001b[39mInterruptedError\u001b[39;00m:\n\u001b[1;32m    418\u001b[0m     \u001b[39mreturn\u001b[39;00m ready\n",
      "\u001b[0;31mKeyboardInterrupt\u001b[0m: "
     ]
    }
   ],
   "source": [
    "get_desc_imgs(44, 'ca.json', 'California') # This will take a few seconds"
   ]
  }
 ],
 "metadata": {
  "kernelspec": {
   "display_name": "Python 3 (ipykernel)",
   "language": "python",
   "name": "python3"
  },
  "language_info": {
   "codemirror_mode": {
    "name": "ipython",
    "version": 3
   },
   "file_extension": ".py",
   "mimetype": "text/x-python",
   "name": "python",
   "nbconvert_exporter": "python",
   "pygments_lexer": "ipython3",
   "version": "3.10.12"
  },
  "vscode": {
   "interpreter": {
    "hash": "916dbcbb3f70747c44a77c7bcd40155683ae19c65e1c03b4aa3499c5328201f1"
   }
  }
 },
 "nbformat": 4,
 "nbformat_minor": 4
}
